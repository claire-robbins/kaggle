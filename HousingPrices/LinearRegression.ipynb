{
 "cells": [
  {
   "cell_type": "code",
   "execution_count": 1,
   "id": "hungry-plant",
   "metadata": {},
   "outputs": [
    {
     "data": {
      "text/plain": [
       "'/Users/beth/Documents/Repositories/Kaggle/HousingPrices'"
      ]
     },
     "execution_count": 1,
     "metadata": {},
     "output_type": "execute_result"
    }
   ],
   "source": [
    "import os\n",
    "import pandas as pd\n",
    "import numpy as np\n",
    "from sklearn.preprocessing import OrdinalEncoder\n",
    "from sklearn.impute import SimpleImputer\n",
    "from sklearn.preprocessing import StandardScaler\n",
    "import matplotlib.pyplot as plt\n",
    "from sklearn.linear_model import LinearRegression\n",
    "from sklearn.model_selection import cross_val_score\n",
    "from sklearn.model_selection import train_test_split\n",
    "from sklearn.linear_model import Ridge\n",
    "from sklearn.linear_model import Lasso\n",
    "from sklearn.linear_model import ElasticNet\n",
    "from sklearn.preprocessing import PolynomialFeatures\n",
    "\n",
    "pd.set_option('display.max_columns',100)\n",
    "pd.set_option('display.max_rows',100)\n",
    "pd.set_option('display.max_colwidth', 0)\n",
    "os.getcwd()"
   ]
  },
  {
   "cell_type": "code",
   "execution_count": 2,
   "id": "prime-hygiene",
   "metadata": {},
   "outputs": [],
   "source": [
    "train = pd.read_csv('house-prices-advanced-regression-techniques/train.csv')"
   ]
  },
  {
   "cell_type": "markdown",
   "id": "hourly-barbados",
   "metadata": {},
   "source": [
    "Removing some variables based on previous notebook"
   ]
  },
  {
   "cell_type": "code",
   "execution_count": 3,
   "id": "related-mongolia",
   "metadata": {},
   "outputs": [],
   "source": [
    "train.drop('Id',axis=1,inplace=True)\n",
    "#remove variables based on correlation < 0.2 or > -0.2 with sale price\n",
    "train.drop(['BsmtUnfSF','ScreenPorch','MoSold','3SsnPorch','PoolArea','MSSubClass','BsmtHalfBath','YrSold','BsmtFinSF2','MiscVal','LowQualFinSF','OverallCond','KitchenAbvGr'],axis=1,inplace=True)\n",
    "#remove variables based on > 0.05 ANOVA p-val with sale price\n",
    "train.drop(['MiscFeature','Street','LandSlope','PoolQC','Utilities','Condition2'],axis=1,inplace=True)"
   ]
  },
  {
   "cell_type": "markdown",
   "id": "early-refund",
   "metadata": {},
   "source": [
    "Ordinally encoding some the Quality and Condition variables"
   ]
  },
  {
   "cell_type": "code",
   "execution_count": 4,
   "id": "regular-answer",
   "metadata": {},
   "outputs": [],
   "source": [
    "def ordinal_encode(x,values=['Po','Fa','TA','Gd','Ex']):\n",
    "    values = np.asarray(values).reshape(-1,1)\n",
    "    encoder = OrdinalEncoder()\n",
    "    temp = encoder.fit(values)\n",
    "    train[[x]]=np.where(train[[x]].isna(),'TA',train[[x]])\n",
    "    result = encoder.transform(train[[x]])\n",
    "    return(pd.Series(result.flatten()))"
   ]
  },
  {
   "cell_type": "code",
   "execution_count": 5,
   "id": "roman-syndication",
   "metadata": {},
   "outputs": [],
   "source": [
    "train['ExterQual'] = ordinal_encode('ExterQual')\n",
    "train['ExterCond'] = ordinal_encode('ExterCond',['Po','Fa','TA','Gd','Ex'])\n",
    "train['BsmtQual'] = ordinal_encode('BsmtQual',['Po','Fa','TA','Gd','Ex'])\n",
    "train['BsmtCond'] = ordinal_encode('BsmtCond',['Po','Fa','TA','Gd','Ex'])\n",
    "train['HeatingQC'] = ordinal_encode('HeatingQC',['Po','Fa','TA','Gd','Ex'])\n",
    "train['KitchenQual'] = ordinal_encode('KitchenQual',['Po','Fa','TA','Gd','Ex'])\n",
    "train['FireplaceQu'] = ordinal_encode('FireplaceQu',['Po','Fa','TA','Gd','Ex'])\n",
    "train['GarageQual'] = ordinal_encode('GarageQual',['Po','Fa','TA','Gd','Ex'])\n",
    "train['GarageCond'] = ordinal_encode('GarageCond',['Po','Fa','TA','Gd','Ex'])"
   ]
  },
  {
   "cell_type": "markdown",
   "id": "qualified-enforcement",
   "metadata": {},
   "source": [
    "Looking at columns with NA"
   ]
  },
  {
   "cell_type": "code",
   "execution_count": 12,
   "id": "addressed-pollution",
   "metadata": {},
   "outputs": [
    {
     "data": {
      "text/plain": [
       "LotFrontage     float64\n",
       "Alley           object \n",
       "MasVnrType      object \n",
       "MasVnrArea      float64\n",
       "BsmtExposure    object \n",
       "BsmtFinType1    object \n",
       "BsmtFinType2    object \n",
       "Electrical      object \n",
       "GarageType      object \n",
       "GarageYrBlt     float64\n",
       "GarageFinish    object \n",
       "Fence           object \n",
       "dtype: object"
      ]
     },
     "execution_count": 12,
     "metadata": {},
     "output_type": "execute_result"
    }
   ],
   "source": [
    "train.loc[:,train.isna().any()].dtypes"
   ]
  },
  {
   "cell_type": "markdown",
   "id": "geological-brake",
   "metadata": {},
   "source": [
    "Imputing values for float64 columns with NA using the columns mean"
   ]
  },
  {
   "cell_type": "code",
   "execution_count": 13,
   "id": "exterior-bouquet",
   "metadata": {},
   "outputs": [],
   "source": [
    "imp_mean = SimpleImputer(missing_values=np.nan, strategy='mean')\n",
    "train[['LotFrontage','GarageYrBlt','MasVnrArea']] = imp_mean.fit_transform(train[['LotFrontage','GarageYrBlt','MasVnrArea']])"
   ]
  },
  {
   "cell_type": "markdown",
   "id": "foster-boost",
   "metadata": {},
   "source": [
    "Scaling the numeric (and non-ordinal) columns (not sure about this step)"
   ]
  },
  {
   "cell_type": "code",
   "execution_count": 17,
   "id": "convinced-eligibility",
   "metadata": {},
   "outputs": [],
   "source": [
    "ss = StandardScaler()\n",
    "num_scaled = ss.fit_transform(train[['LotFrontage','LotArea','YearBuilt','YearRemodAdd','MasVnrArea','TotalBsmtSF','1stFlrSF','2ndFlrSF','GrLivArea','GarageYrBlt','GarageArea','WoodDeckSF','OpenPorchSF','EnclosedPorch']])"
   ]
  },
  {
   "cell_type": "code",
   "execution_count": 18,
   "id": "twenty-graduate",
   "metadata": {},
   "outputs": [],
   "source": [
    "num_scaled = pd.DataFrame(num_scaled,columns=['LotFrontage','LotArea','YearBuilt','YearRemodAdd','MasVnrArea','TotalBsmtSF','1stFlrSF','2ndFlrSF','GrLivArea','GarageYrBlt','GarageArea','WoodDeckSF','OpenPorchSF','EnclosedPorch'])"
   ]
  },
  {
   "cell_type": "markdown",
   "id": "tribal-graph",
   "metadata": {},
   "source": [
    "Getting the log of the SalePrice as a target"
   ]
  },
  {
   "cell_type": "code",
   "execution_count": 16,
   "id": "electrical-plain",
   "metadata": {},
   "outputs": [],
   "source": [
    "train['logSalePrice']=np.log(train['SalePrice'])"
   ]
  },
  {
   "cell_type": "markdown",
   "id": "convertible-blood",
   "metadata": {},
   "source": [
    "Plotting some of the numeric non-ordinal columns vs logSalePrice, and trying to remove effects of outliers or focus in on linear ranges\n",
    "\n",
    "Not sure if this is necessary"
   ]
  },
  {
   "cell_type": "code",
   "execution_count": 19,
   "id": "detected-facility",
   "metadata": {},
   "outputs": [
    {
     "data": {
      "text/plain": [
       "<matplotlib.collections.PathCollection at 0x7ffc89cb32d0>"
      ]
     },
     "execution_count": 19,
     "metadata": {},
     "output_type": "execute_result"
    },
    {
     "data": {
      "image/png": "[encoded data removed]",
      "text/plain": [
       "<Figure size 432x288 with 1 Axes>"
      ]
     },
     "metadata": {
      "needs_background": "light"
     },
     "output_type": "display_data"
    }
   ],
   "source": [
    "plt.scatter(x=num_scaled['LotFrontage'],y=train['logSalePrice'])"
   ]
  },
  {
   "cell_type": "code",
   "execution_count": 20,
   "id": "lovely-victory",
   "metadata": {},
   "outputs": [],
   "source": [
    "num_scaled['LotFrontage'] = (num_scaled['LotFrontage']<6).astype(int)*num_scaled['LotFrontage']"
   ]
  },
  {
   "cell_type": "code",
   "execution_count": 21,
   "id": "solar-enlargement",
   "metadata": {},
   "outputs": [
    {
     "data": {
      "text/plain": [
       "<matplotlib.collections.PathCollection at 0x7ffc8f851150>"
      ]
     },
     "execution_count": 21,
     "metadata": {},
     "output_type": "execute_result"
    },
    {
     "data": {
      "image/png": "[encoded data removed]",
      "text/plain": [
       "<Figure size 432x288 with 1 Axes>"
      ]
     },
     "metadata": {
      "needs_background": "light"
     },
     "output_type": "display_data"
    }
   ],
   "source": [
    "plt.scatter(x=num_scaled['LotArea'],y=train['logSalePrice'])"
   ]
  },
  {
   "cell_type": "code",
   "execution_count": 22,
   "id": "shaped-rouge",
   "metadata": {},
   "outputs": [],
   "source": [
    "num_scaled['LotArea'] = (num_scaled['LotArea']<5).astype(int)*num_scaled['LotArea']"
   ]
  },
  {
   "cell_type": "code",
   "execution_count": 23,
   "id": "approximate-optimization",
   "metadata": {},
   "outputs": [
    {
     "data": {
      "text/plain": [
       "<matplotlib.collections.PathCollection at 0x7ffc8fa045d0>"
      ]
     },
     "execution_count": 23,
     "metadata": {},
     "output_type": "execute_result"
    },
    {
     "data": {
      "image/png": "[encoded data removed]",
      "text/plain": [
       "<Figure size 432x288 with 1 Axes>"
      ]
     },
     "metadata": {
      "needs_background": "light"
     },
     "output_type": "display_data"
    }
   ],
   "source": [
    "plt.scatter(x=num_scaled['YearBuilt'],y=train['logSalePrice'])"
   ]
  },
  {
   "cell_type": "code",
   "execution_count": 24,
   "id": "cloudy-vacuum",
   "metadata": {},
   "outputs": [],
   "source": [
    "num_scaled['YearBuilt'] = (num_scaled['YearBuilt']>-1).astype(int)*num_scaled['YearBuilt']"
   ]
  },
  {
   "cell_type": "code",
   "execution_count": 25,
   "id": "demanding-sender",
   "metadata": {},
   "outputs": [
    {
     "data": {
      "text/plain": [
       "<matplotlib.collections.PathCollection at 0x7ffc8fa31150>"
      ]
     },
     "execution_count": 25,
     "metadata": {},
     "output_type": "execute_result"
    },
    {
     "data": {
      "image/png": "[encoded data removed]",
      "text/plain": [
       "<Figure size 432x288 with 1 Axes>"
      ]
     },
     "metadata": {
      "needs_background": "light"
     },
     "output_type": "display_data"
    }
   ],
   "source": [
    "plt.scatter(x=num_scaled['TotalBsmtSF'],y=train['logSalePrice'])"
   ]
  },
  {
   "cell_type": "code",
   "execution_count": 26,
   "id": "roman-simon",
   "metadata": {},
   "outputs": [],
   "source": [
    "num_scaled['TotalBsmtSF'] = (num_scaled['TotalBsmtSF']<4).astype(int)*num_scaled['TotalBsmtSF']"
   ]
  },
  {
   "cell_type": "code",
   "execution_count": 27,
   "id": "entertaining-formula",
   "metadata": {},
   "outputs": [
    {
     "data": {
      "text/plain": [
       "<matplotlib.collections.PathCollection at 0x7ffc8fd7ca90>"
      ]
     },
     "execution_count": 27,
     "metadata": {},
     "output_type": "execute_result"
    },
    {
     "data": {
      "image/png": "[encoded data removed]",
      "text/plain": [
       "<Figure size 432x288 with 1 Axes>"
      ]
     },
     "metadata": {
      "needs_background": "light"
     },
     "output_type": "display_data"
    }
   ],
   "source": [
    "plt.scatter(x=num_scaled['1stFlrSF'],y=train['logSalePrice'])"
   ]
  },
  {
   "cell_type": "code",
   "execution_count": 28,
   "id": "fatal-maryland",
   "metadata": {},
   "outputs": [],
   "source": [
    "num_scaled['1stFlrSF'] = (num_scaled['1stFlrSF']<4).astype(int)*num_scaled['1stFlrSF']"
   ]
  },
  {
   "cell_type": "code",
   "execution_count": 29,
   "id": "about-suicide",
   "metadata": {},
   "outputs": [
    {
     "data": {
      "text/plain": [
       "<matplotlib.collections.PathCollection at 0x7ffc8b1062d0>"
      ]
     },
     "execution_count": 29,
     "metadata": {},
     "output_type": "execute_result"
    },
    {
     "data": {
      "image/png": "[encoded data removed]",
      "text/plain": [
       "<Figure size 432x288 with 1 Axes>"
      ]
     },
     "metadata": {
      "needs_background": "light"
     },
     "output_type": "display_data"
    }
   ],
   "source": [
    "plt.scatter(x=num_scaled['2ndFlrSF'],y=train['logSalePrice'])"
   ]
  },
  {
   "cell_type": "code",
   "execution_count": 30,
   "id": "urban-holly",
   "metadata": {},
   "outputs": [],
   "source": [
    "num_scaled['No2ndFloor'] = (num_scaled['2ndFlrSF']==0).astype(int)"
   ]
  },
  {
   "cell_type": "code",
   "execution_count": 31,
   "id": "retired-appeal",
   "metadata": {},
   "outputs": [
    {
     "data": {
      "text/plain": [
       "<matplotlib.collections.PathCollection at 0x7ffc8fe8d950>"
      ]
     },
     "execution_count": 31,
     "metadata": {},
     "output_type": "execute_result"
    },
    {
     "data": {
      "image/png": "[encoded data removed]",
      "text/plain": [
       "<Figure size 432x288 with 1 Axes>"
      ]
     },
     "metadata": {
      "needs_background": "light"
     },
     "output_type": "display_data"
    }
   ],
   "source": [
    "plt.scatter(x=num_scaled['GrLivArea'],y=train['logSalePrice'])"
   ]
  },
  {
   "cell_type": "code",
   "execution_count": 32,
   "id": "colonial-letters",
   "metadata": {},
   "outputs": [],
   "source": [
    "num_scaled['GrLivArea'] = (num_scaled['GrLivArea']<5).astype(int)*num_scaled['GrLivArea']"
   ]
  },
  {
   "cell_type": "code",
   "execution_count": 33,
   "id": "planned-sound",
   "metadata": {},
   "outputs": [
    {
     "data": {
      "text/plain": [
       "<matplotlib.collections.PathCollection at 0x7ffc900ce5d0>"
      ]
     },
     "execution_count": 33,
     "metadata": {},
     "output_type": "execute_result"
    },
    {
     "data": {
      "image/png": "[encoded data removed]",
      "text/plain": [
       "<Figure size 432x288 with 1 Axes>"
      ]
     },
     "metadata": {
      "needs_background": "light"
     },
     "output_type": "display_data"
    }
   ],
   "source": [
    "plt.scatter(x=num_scaled['GarageYrBlt'],y=train['logSalePrice'])"
   ]
  },
  {
   "cell_type": "code",
   "execution_count": 34,
   "id": "retained-database",
   "metadata": {},
   "outputs": [],
   "source": [
    "num_scaled['GarageYrBlt'] = (num_scaled['GarageYrBlt']>-1.25).astype(int)*num_scaled['GarageYrBlt']"
   ]
  },
  {
   "cell_type": "code",
   "execution_count": 35,
   "id": "former-merchant",
   "metadata": {},
   "outputs": [
    {
     "data": {
      "text/plain": [
       "<matplotlib.collections.PathCollection at 0x7ffc8fb76c90>"
      ]
     },
     "execution_count": 35,
     "metadata": {},
     "output_type": "execute_result"
    },
    {
     "data": {
      "image/png": "[encoded data removed]",
      "text/plain": [
       "<Figure size 432x288 with 1 Axes>"
      ]
     },
     "metadata": {
      "needs_background": "light"
     },
     "output_type": "display_data"
    }
   ],
   "source": [
    "plt.scatter(x=num_scaled['GarageArea'],y=train['logSalePrice'])"
   ]
  },
  {
   "cell_type": "code",
   "execution_count": 36,
   "id": "essential-encounter",
   "metadata": {},
   "outputs": [],
   "source": [
    "num_scaled['GarageArea'] = (num_scaled['GarageArea']<3).astype(int)*num_scaled['GarageArea']"
   ]
  },
  {
   "cell_type": "code",
   "execution_count": 37,
   "id": "antique-graduation",
   "metadata": {},
   "outputs": [],
   "source": [
    "num_scaled['NoGarage'] = (num_scaled['GarageArea']==0).astype(int)"
   ]
  },
  {
   "cell_type": "code",
   "execution_count": 38,
   "id": "authentic-canada",
   "metadata": {},
   "outputs": [
    {
     "data": {
      "text/plain": [
       "<matplotlib.collections.PathCollection at 0x7ffc90133b50>"
      ]
     },
     "execution_count": 38,
     "metadata": {},
     "output_type": "execute_result"
    },
    {
     "data": {
      "image/png": "[encoded data removed]",
      "text/plain": [
       "<Figure size 432x288 with 1 Axes>"
      ]
     },
     "metadata": {
      "needs_background": "light"
     },
     "output_type": "display_data"
    }
   ],
   "source": [
    "plt.scatter(x=num_scaled['OpenPorchSF'],y=train['logSalePrice'])"
   ]
  },
  {
   "cell_type": "code",
   "execution_count": 39,
   "id": "infinite-gross",
   "metadata": {},
   "outputs": [],
   "source": [
    "num_scaled['OpenPorchSF'] = (num_scaled['OpenPorchSF']<5).astype(int)*num_scaled['OpenPorchSF']"
   ]
  },
  {
   "cell_type": "code",
   "execution_count": 40,
   "id": "infrared-termination",
   "metadata": {},
   "outputs": [
    {
     "data": {
      "text/plain": [
       "<matplotlib.collections.PathCollection at 0x7ffc90381fd0>"
      ]
     },
     "execution_count": 40,
     "metadata": {},
     "output_type": "execute_result"
    },
    {
     "data": {
      "image/png": "[encoded data removed]",
      "text/plain": [
       "<Figure size 432x288 with 1 Axes>"
      ]
     },
     "metadata": {
      "needs_background": "light"
     },
     "output_type": "display_data"
    }
   ],
   "source": [
    "plt.scatter(x=num_scaled['EnclosedPorch'],y=train['logSalePrice'])"
   ]
  },
  {
   "cell_type": "code",
   "execution_count": 41,
   "id": "technological-recommendation",
   "metadata": {},
   "outputs": [],
   "source": [
    "num_scaled['NoEnclosedPorch'] = (num_scaled['EnclosedPorch']==0).astype(int)"
   ]
  },
  {
   "cell_type": "markdown",
   "id": "analyzed-gateway",
   "metadata": {},
   "source": [
    "Using a cutoff for values of categorial predictors, and making those values under the cutoff count np.na"
   ]
  },
  {
   "cell_type": "code",
   "execution_count": 42,
   "id": "respiratory-lexington",
   "metadata": {},
   "outputs": [],
   "source": [
    "def count_over_value(x,column,cutoff):\n",
    "    try:\n",
    "        return(train[column].value_counts()[x]>cutoff)\n",
    "    except:\n",
    "        return(False)\n",
    "    "
   ]
  },
  {
   "cell_type": "code",
   "execution_count": 43,
   "id": "forward-wisdom",
   "metadata": {},
   "outputs": [],
   "source": [
    "#trying differnt cutoffs would be a good idea, I used 50\n",
    "for col in train.select_dtypes(include=['object']).columns:\n",
    "    train[col] = pd.Series(np.where(train[col].apply(count_over_value,column=col,cutoff=50),train[col],np.nan))"
   ]
  },
  {
   "cell_type": "markdown",
   "id": "confident-clearance",
   "metadata": {},
   "source": [
    "Creating one-hot-encoded columns for object values"
   ]
  },
  {
   "cell_type": "code",
   "execution_count": 45,
   "id": "single-permission",
   "metadata": {},
   "outputs": [],
   "source": [
    "train_dummies = train.select_dtypes(include=['object'])\n",
    "\n",
    "for col in train_dummies.select_dtypes(include=['object']).columns:\n",
    "    dummies = pd.get_dummies(train_dummies[col],prefix=col+'_')\n",
    "    train_dummies = pd.concat([train_dummies, dummies],axis=1)\n",
    "    train_dummies.drop([col],axis=1,inplace=True)"
   ]
  },
  {
   "cell_type": "code",
   "execution_count": 46,
   "id": "unable-square",
   "metadata": {},
   "outputs": [
    {
     "data": {
      "text/plain": [
       "(1460, 86)"
      ]
     },
     "execution_count": 46,
     "metadata": {},
     "output_type": "execute_result"
    }
   ],
   "source": [
    "train_dummies.shape"
   ]
  },
  {
   "cell_type": "markdown",
   "id": "religious-edward",
   "metadata": {},
   "source": [
    "Train final is the concatenation of the dummies, ordinal, and scaled numeric predictors"
   ]
  },
  {
   "cell_type": "code",
   "execution_count": 47,
   "id": "answering-warren",
   "metadata": {},
   "outputs": [],
   "source": [
    "train_final_X = pd.concat([train_dummies,num_scaled,train[['ExterQual','BsmtQual','BsmtCond','HeatingQC','KitchenQual','FireplaceQu','GarageQual','GarageCond','OverallQual']]],axis=1)"
   ]
  },
  {
   "cell_type": "code",
   "execution_count": 48,
   "id": "painted-contents",
   "metadata": {},
   "outputs": [
    {
     "name": "stdout",
     "output_type": "stream",
     "text": [
      "<class 'pandas.core.frame.DataFrame'>\n",
      "RangeIndex: 1460 entries, 0 to 1459\n",
      "Columns: 112 entries, MSZoning__FV to OverallQual\n",
      "dtypes: float64(22), int64(4), uint8(86)\n",
      "memory usage: 419.3 KB\n"
     ]
    }
   ],
   "source": [
    "train_final_X.info()"
   ]
  },
  {
   "cell_type": "code",
   "execution_count": 51,
   "id": "otherwise-domain",
   "metadata": {},
   "outputs": [],
   "source": [
    "train_Y = train['logSalePrice']"
   ]
  },
  {
   "cell_type": "markdown",
   "id": "vocal-investigator",
   "metadata": {},
   "source": [
    "Try first linear model with 10-fold cross val, get average RMSE"
   ]
  },
  {
   "cell_type": "code",
   "execution_count": 52,
   "id": "informal-roulette",
   "metadata": {},
   "outputs": [
    {
     "data": {
      "text/plain": [
       "-458677613.14530355"
      ]
     },
     "execution_count": 52,
     "metadata": {},
     "output_type": "execute_result"
    }
   ],
   "source": [
    "model = LinearRegression()\n",
    "scores = cross_val_score(model, train_final_X, train_Y, scoring='neg_root_mean_squared_error', cv=10, n_jobs=-1)\n",
    "scores.mean()"
   ]
  },
  {
   "cell_type": "markdown",
   "id": "lyric-branch",
   "metadata": {},
   "source": [
    "Not sure why this is such a large number"
   ]
  },
  {
   "cell_type": "markdown",
   "id": "large-speed",
   "metadata": {},
   "source": [
    "Look at a specific test/train split"
   ]
  },
  {
   "cell_type": "code",
   "execution_count": 53,
   "id": "capable-tokyo",
   "metadata": {},
   "outputs": [],
   "source": [
    "X_train, X_test, y_train, y_test = train_test_split(train_final_X, train_Y, test_size=0.1,random_state=111)"
   ]
  },
  {
   "cell_type": "code",
   "execution_count": 54,
   "id": "foster-alcohol",
   "metadata": {},
   "outputs": [
    {
     "data": {
      "text/plain": [
       "LinearRegression(copy_X=True, fit_intercept=True, n_jobs=None, normalize=False)"
      ]
     },
     "execution_count": 54,
     "metadata": {},
     "output_type": "execute_result"
    }
   ],
   "source": [
    "model.fit(X_train, y_train)"
   ]
  },
  {
   "cell_type": "code",
   "execution_count": 55,
   "id": "polish-tablet",
   "metadata": {},
   "outputs": [],
   "source": [
    "results = pd.DataFrame(data={'actual':y_test,'predicted':model.predict(X_test)})"
   ]
  },
  {
   "cell_type": "code",
   "execution_count": 56,
   "id": "dedicated-peripheral",
   "metadata": {},
   "outputs": [
    {
     "data": {
      "text/html": [
       "<div>\n",
       "<style scoped>\n",
       "    .dataframe tbody tr th:only-of-type {\n",
       "        vertical-align: middle;\n",
       "    }\n",
       "\n",
       "    .dataframe tbody tr th {\n",
       "        vertical-align: top;\n",
       "    }\n",
       "\n",
       "    .dataframe thead th {\n",
       "        text-align: right;\n",
       "    }\n",
       "</style>\n",
       "<table border=\"1\" class=\"dataframe\">\n",
       "  <thead>\n",
       "    <tr style=\"text-align: right;\">\n",
       "      <th></th>\n",
       "      <th>actual</th>\n",
       "      <th>predicted</th>\n",
       "    </tr>\n",
       "  </thead>\n",
       "  <tbody>\n",
       "    <tr>\n",
       "      <th>1035</th>\n",
       "      <td>11.338572</td>\n",
       "      <td>11.354736</td>\n",
       "    </tr>\n",
       "    <tr>\n",
       "      <th>922</th>\n",
       "      <td>12.043495</td>\n",
       "      <td>12.134155</td>\n",
       "    </tr>\n",
       "    <tr>\n",
       "      <th>952</th>\n",
       "      <td>11.804849</td>\n",
       "      <td>11.866089</td>\n",
       "    </tr>\n",
       "    <tr>\n",
       "      <th>788</th>\n",
       "      <td>11.588960</td>\n",
       "      <td>11.594971</td>\n",
       "    </tr>\n",
       "    <tr>\n",
       "      <th>536</th>\n",
       "      <td>12.144197</td>\n",
       "      <td>12.242920</td>\n",
       "    </tr>\n",
       "    <tr>\n",
       "      <th>...</th>\n",
       "      <td>...</td>\n",
       "      <td>...</td>\n",
       "    </tr>\n",
       "    <tr>\n",
       "      <th>670</th>\n",
       "      <td>12.063933</td>\n",
       "      <td>12.071289</td>\n",
       "    </tr>\n",
       "    <tr>\n",
       "      <th>385</th>\n",
       "      <td>12.165251</td>\n",
       "      <td>12.174927</td>\n",
       "    </tr>\n",
       "    <tr>\n",
       "      <th>94</th>\n",
       "      <td>12.229545</td>\n",
       "      <td>12.201782</td>\n",
       "    </tr>\n",
       "    <tr>\n",
       "      <th>185</th>\n",
       "      <td>13.071070</td>\n",
       "      <td>12.630737</td>\n",
       "    </tr>\n",
       "    <tr>\n",
       "      <th>230</th>\n",
       "      <td>11.904968</td>\n",
       "      <td>11.824219</td>\n",
       "    </tr>\n",
       "  </tbody>\n",
       "</table>\n",
       "<p>146 rows × 2 columns</p>\n",
       "</div>"
      ],
      "text/plain": [
       "         actual  predicted\n",
       "1035  11.338572  11.354736\n",
       "922   12.043495  12.134155\n",
       "952   11.804849  11.866089\n",
       "788   11.588960  11.594971\n",
       "536   12.144197  12.242920\n",
       "...         ...        ...\n",
       "670   12.063933  12.071289\n",
       "385   12.165251  12.174927\n",
       "94    12.229545  12.201782\n",
       "185   13.071070  12.630737\n",
       "230   11.904968  11.824219\n",
       "\n",
       "[146 rows x 2 columns]"
      ]
     },
     "execution_count": 56,
     "metadata": {},
     "output_type": "execute_result"
    }
   ],
   "source": [
    "results"
   ]
  },
  {
   "cell_type": "code",
   "execution_count": 57,
   "id": "violent-inspiration",
   "metadata": {},
   "outputs": [
    {
     "data": {
      "text/plain": [
       "0.13976865134284133"
      ]
     },
     "execution_count": 57,
     "metadata": {},
     "output_type": "execute_result"
    }
   ],
   "source": [
    "np.sqrt(np.sum(np.square(results['actual']-results['predicted']))/results.shape[0])"
   ]
  },
  {
   "cell_type": "markdown",
   "id": "cleared-asthma",
   "metadata": {},
   "source": [
    "Not sure why this is so different?"
   ]
  },
  {
   "cell_type": "code",
   "execution_count": 58,
   "id": "happy-mississippi",
   "metadata": {},
   "outputs": [
    {
     "data": {
      "text/plain": [
       "<matplotlib.collections.PathCollection at 0x7ffc905db7d0>"
      ]
     },
     "execution_count": 58,
     "metadata": {},
     "output_type": "execute_result"
    },
    {
     "data": {
      "image/png": "[encoded data removed]",
      "text/plain": [
       "<Figure size 432x288 with 1 Axes>"
      ]
     },
     "metadata": {
      "needs_background": "light"
     },
     "output_type": "display_data"
    }
   ],
   "source": [
    "plt.scatter(x='actual',y='predicted',data=results)"
   ]
  },
  {
   "cell_type": "code",
   "execution_count": 59,
   "id": "organized-grammar",
   "metadata": {},
   "outputs": [
    {
     "data": {
      "text/plain": [
       "<matplotlib.collections.PathCollection at 0x7ffc907d0650>"
      ]
     },
     "execution_count": 59,
     "metadata": {},
     "output_type": "execute_result"
    },
    {
     "data": {
      "image/png": "[encoded data removed]",
      "text/plain": [
       "<Figure size 432x288 with 1 Axes>"
      ]
     },
     "metadata": {
      "needs_background": "light"
     },
     "output_type": "display_data"
    }
   ],
   "source": [
    "plt.scatter(x=results['actual'],y=results['predicted']-results['actual'])"
   ]
  },
  {
   "cell_type": "markdown",
   "id": "coral-lucas",
   "metadata": {},
   "source": [
    "From the shape of the residual we should transform some variables to be squared and/or cubed"
   ]
  },
  {
   "cell_type": "code",
   "execution_count": 60,
   "id": "silent-insulin",
   "metadata": {},
   "outputs": [
    {
     "data": {
      "text/html": [
       "<div>\n",
       "<style scoped>\n",
       "    .dataframe tbody tr th:only-of-type {\n",
       "        vertical-align: middle;\n",
       "    }\n",
       "\n",
       "    .dataframe tbody tr th {\n",
       "        vertical-align: top;\n",
       "    }\n",
       "\n",
       "    .dataframe thead th {\n",
       "        text-align: right;\n",
       "    }\n",
       "</style>\n",
       "<table border=\"1\" class=\"dataframe\">\n",
       "  <thead>\n",
       "    <tr style=\"text-align: right;\">\n",
       "      <th></th>\n",
       "      <th>0</th>\n",
       "      <th>1</th>\n",
       "    </tr>\n",
       "  </thead>\n",
       "  <tbody>\n",
       "    <tr>\n",
       "      <th>101</th>\n",
       "      <td>NoGarage</td>\n",
       "      <td>-1.363119e-01</td>\n",
       "    </tr>\n",
       "    <tr>\n",
       "      <th>39</th>\n",
       "      <td>Exterior1st__Wd Sdng</td>\n",
       "      <td>-1.038814e-01</td>\n",
       "    </tr>\n",
       "    <tr>\n",
       "      <th>61</th>\n",
       "      <td>BsmtFinType1__Unf</td>\n",
       "      <td>-9.619843e-02</td>\n",
       "    </tr>\n",
       "    <tr>\n",
       "      <th>35</th>\n",
       "      <td>Exterior1st__HdBoard</td>\n",
       "      <td>-8.358969e-02</td>\n",
       "    </tr>\n",
       "    <tr>\n",
       "      <th>59</th>\n",
       "      <td>BsmtFinType1__LwQ</td>\n",
       "      <td>-6.802306e-02</td>\n",
       "    </tr>\n",
       "    <tr>\n",
       "      <th>...</th>\n",
       "      <td>...</td>\n",
       "      <td>...</td>\n",
       "    </tr>\n",
       "    <tr>\n",
       "      <th>0</th>\n",
       "      <td>MSZoning__FV</td>\n",
       "      <td>1.494672e-01</td>\n",
       "    </tr>\n",
       "    <tr>\n",
       "      <th>102</th>\n",
       "      <td>NoEnclosedPorch</td>\n",
       "      <td>1.003991e+05</td>\n",
       "    </tr>\n",
       "    <tr>\n",
       "      <th>100</th>\n",
       "      <td>No2ndFloor</td>\n",
       "      <td>4.263006e+05</td>\n",
       "    </tr>\n",
       "    <tr>\n",
       "      <th>65</th>\n",
       "      <td>CentralAir__N</td>\n",
       "      <td>8.755629e+11</td>\n",
       "    </tr>\n",
       "    <tr>\n",
       "      <th>66</th>\n",
       "      <td>CentralAir__Y</td>\n",
       "      <td>8.755629e+11</td>\n",
       "    </tr>\n",
       "  </tbody>\n",
       "</table>\n",
       "<p>112 rows × 2 columns</p>\n",
       "</div>"
      ],
      "text/plain": [
       "                        0             1\n",
       "101  NoGarage             -1.363119e-01\n",
       "39   Exterior1st__Wd Sdng -1.038814e-01\n",
       "61   BsmtFinType1__Unf    -9.619843e-02\n",
       "35   Exterior1st__HdBoard -8.358969e-02\n",
       "59   BsmtFinType1__LwQ    -6.802306e-02\n",
       "..                 ...              ...\n",
       "0    MSZoning__FV          1.494672e-01\n",
       "102  NoEnclosedPorch       1.003991e+05\n",
       "100  No2ndFloor            4.263006e+05\n",
       "65   CentralAir__N         8.755629e+11\n",
       "66   CentralAir__Y         8.755629e+11\n",
       "\n",
       "[112 rows x 2 columns]"
      ]
     },
     "execution_count": 60,
     "metadata": {},
     "output_type": "execute_result"
    }
   ],
   "source": [
    "pd.DataFrame(zip(train_final_X.columns, model.coef_)).sort_values(by=1)"
   ]
  },
  {
   "cell_type": "code",
   "execution_count": 61,
   "id": "whole-sheriff",
   "metadata": {},
   "outputs": [
    {
     "data": {
      "text/plain": [
       "<AxesSubplot:xlabel='CentralAir', ylabel='SalePrice'>"
      ]
     },
     "execution_count": 61,
     "metadata": {},
     "output_type": "execute_result"
    },
    {
     "data": {
      "image/png": "[encoded data removed]",
      "text/plain": [
       "<Figure size 432x288 with 1 Axes>"
      ]
     },
     "metadata": {
      "needs_background": "light"
     },
     "output_type": "display_data"
    }
   ],
   "source": [
    "train.plot(x='CentralAir',y='SalePrice',kind='scatter')"
   ]
  },
  {
   "cell_type": "markdown",
   "id": "artistic-sympathy",
   "metadata": {},
   "source": [
    "This linear model is obviously bad because it has massive coefficients on Central Air Y and N. Really confusing"
   ]
  },
  {
   "cell_type": "markdown",
   "id": "common-executive",
   "metadata": {},
   "source": [
    "Get the squared, cubed terms for numeric non-ordinal columns only"
   ]
  },
  {
   "cell_type": "code",
   "execution_count": 62,
   "id": "confused-season",
   "metadata": {},
   "outputs": [],
   "source": [
    "squared_num_cols = np.square(train_final_X[['LotFrontage','LotArea','YearBuilt','YearRemodAdd','MasVnrArea','TotalBsmtSF','1stFlrSF','2ndFlrSF','GrLivArea','GarageYrBlt','GarageArea','WoodDeckSF','OpenPorchSF','EnclosedPorch']])"
   ]
  },
  {
   "cell_type": "code",
   "execution_count": 63,
   "id": "immediate-courage",
   "metadata": {},
   "outputs": [],
   "source": [
    "cubed_num_cols = np.power(train_final_X[['LotFrontage','LotArea','YearBuilt','YearRemodAdd','MasVnrArea','TotalBsmtSF','1stFlrSF','2ndFlrSF','GrLivArea','GarageYrBlt','GarageArea','WoodDeckSF','OpenPorchSF','EnclosedPorch']],3)"
   ]
  },
  {
   "cell_type": "code",
   "execution_count": 64,
   "id": "pleasant-building",
   "metadata": {},
   "outputs": [],
   "source": [
    "squared_num_cols.columns = squared_num_cols.columns + '_^2'"
   ]
  },
  {
   "cell_type": "code",
   "execution_count": 65,
   "id": "combined-trustee",
   "metadata": {},
   "outputs": [],
   "source": [
    "cubed_num_cols.columns = cubed_num_cols.columns + '_3'"
   ]
  },
  {
   "cell_type": "markdown",
   "id": "abstract-chocolate",
   "metadata": {},
   "source": [
    "Looking at interaction terms, using a Lasso model to select most informative ones"
   ]
  },
  {
   "cell_type": "code",
   "execution_count": 67,
   "id": "ethical-doctrine",
   "metadata": {},
   "outputs": [],
   "source": [
    "poly = PolynomialFeatures(2,interaction_only=True)\n",
    "train_poly_X = poly.fit_transform(train_final_X)"
   ]
  },
  {
   "cell_type": "code",
   "execution_count": 69,
   "id": "saving-general",
   "metadata": {},
   "outputs": [
    {
     "data": {
      "text/plain": [
       "Lasso(alpha=0.001, copy_X=True, fit_intercept=True, max_iter=5000,\n",
       "      normalize=False, positive=False, precompute=False, random_state=None,\n",
       "      selection='cyclic', tol=0.0001, warm_start=False)"
      ]
     },
     "execution_count": 69,
     "metadata": {},
     "output_type": "execute_result"
    }
   ],
   "source": [
    "model = Lasso(alpha=0.001,max_iter=5000,fit_intercept=True)\n",
    "model.fit(train_poly_X, train_Y)"
   ]
  },
  {
   "cell_type": "code",
   "execution_count": 70,
   "id": "compatible-shark",
   "metadata": {},
   "outputs": [],
   "source": [
    "poly_names = poly.get_feature_names(train_final_X.columns)"
   ]
  },
  {
   "cell_type": "code",
   "execution_count": 71,
   "id": "descending-nursing",
   "metadata": {},
   "outputs": [],
   "source": [
    "coefs = pd.DataFrame(zip(poly_names, model.coef_)).sort_values(by=1)"
   ]
  },
  {
   "cell_type": "code",
   "execution_count": 72,
   "id": "subtle-customer",
   "metadata": {},
   "outputs": [
    {
     "data": {
      "text/html": [
       "<div>\n",
       "<style scoped>\n",
       "    .dataframe tbody tr th:only-of-type {\n",
       "        vertical-align: middle;\n",
       "    }\n",
       "\n",
       "    .dataframe tbody tr th {\n",
       "        vertical-align: top;\n",
       "    }\n",
       "\n",
       "    .dataframe thead th {\n",
       "        text-align: right;\n",
       "    }\n",
       "</style>\n",
       "<table border=\"1\" class=\"dataframe\">\n",
       "  <thead>\n",
       "    <tr style=\"text-align: right;\">\n",
       "      <th></th>\n",
       "      <th>0</th>\n",
       "      <th>1</th>\n",
       "    </tr>\n",
       "  </thead>\n",
       "  <tbody>\n",
       "    <tr>\n",
       "      <th>1751</th>\n",
       "      <td>Neighborhood__NAmes GrLivArea</td>\n",
       "      <td>-0.033266</td>\n",
       "    </tr>\n",
       "    <tr>\n",
       "      <th>6121</th>\n",
       "      <td>TotalBsmtSF GrLivArea</td>\n",
       "      <td>-0.017175</td>\n",
       "    </tr>\n",
       "    <tr>\n",
       "      <th>763</th>\n",
       "      <td>LandContour__Bnk OverallQual</td>\n",
       "      <td>-0.016702</td>\n",
       "    </tr>\n",
       "    <tr>\n",
       "      <th>3765</th>\n",
       "      <td>Exterior1st__Wd Sdng BsmtQual</td>\n",
       "      <td>-0.013484</td>\n",
       "    </tr>\n",
       "    <tr>\n",
       "      <th>4432</th>\n",
       "      <td>Foundation__BrkTil HeatingQC</td>\n",
       "      <td>-0.013063</td>\n",
       "    </tr>\n",
       "    <tr>\n",
       "      <th>...</th>\n",
       "      <td>...</td>\n",
       "      <td>...</td>\n",
       "    </tr>\n",
       "    <tr>\n",
       "      <th>5040</th>\n",
       "      <td>BsmtFinType1__Rec OpenPorchSF</td>\n",
       "      <td>0.018102</td>\n",
       "    </tr>\n",
       "    <tr>\n",
       "      <th>2569</th>\n",
       "      <td>BldgType__1Fam 2ndFlrSF</td>\n",
       "      <td>0.020153</td>\n",
       "    </tr>\n",
       "    <tr>\n",
       "      <th>4356</th>\n",
       "      <td>MasVnrType__Stone 1stFlrSF</td>\n",
       "      <td>0.023130</td>\n",
       "    </tr>\n",
       "    <tr>\n",
       "      <th>5817</th>\n",
       "      <td>Fence__GdWo GarageArea</td>\n",
       "      <td>0.023952</td>\n",
       "    </tr>\n",
       "    <tr>\n",
       "      <th>5274</th>\n",
       "      <td>CentralAir__N 1stFlrSF</td>\n",
       "      <td>0.033272</td>\n",
       "    </tr>\n",
       "  </tbody>\n",
       "</table>\n",
       "<p>6329 rows × 2 columns</p>\n",
       "</div>"
      ],
      "text/plain": [
       "                                  0         1\n",
       "1751  Neighborhood__NAmes GrLivArea -0.033266\n",
       "6121  TotalBsmtSF GrLivArea         -0.017175\n",
       "763   LandContour__Bnk OverallQual  -0.016702\n",
       "3765  Exterior1st__Wd Sdng BsmtQual -0.013484\n",
       "4432  Foundation__BrkTil HeatingQC  -0.013063\n",
       "...                            ...        ...\n",
       "5040  BsmtFinType1__Rec OpenPorchSF  0.018102\n",
       "2569  BldgType__1Fam 2ndFlrSF        0.020153\n",
       "4356  MasVnrType__Stone 1stFlrSF     0.023130\n",
       "5817  Fence__GdWo GarageArea         0.023952\n",
       "5274  CentralAir__N 1stFlrSF         0.033272\n",
       "\n",
       "[6329 rows x 2 columns]"
      ]
     },
     "execution_count": 72,
     "metadata": {},
     "output_type": "execute_result"
    }
   ],
   "source": [
    "coefs"
   ]
  },
  {
   "cell_type": "code",
   "execution_count": 73,
   "id": "found-multiple",
   "metadata": {},
   "outputs": [],
   "source": [
    "coefs[2]=np.absolute(coefs[1])"
   ]
  },
  {
   "cell_type": "code",
   "execution_count": 74,
   "id": "nonprofit-bachelor",
   "metadata": {},
   "outputs": [],
   "source": [
    "top_interactions = coefs[coefs[2]>0.01][0]"
   ]
  },
  {
   "cell_type": "code",
   "execution_count": 75,
   "id": "acting-upgrade",
   "metadata": {},
   "outputs": [
    {
     "data": {
      "text/plain": [
       "1751    Neighborhood__NAmes GrLivArea        \n",
       "6121    TotalBsmtSF GrLivArea                \n",
       "763     LandContour__Bnk OverallQual         \n",
       "3765    Exterior1st__Wd Sdng BsmtQual        \n",
       "4432    Foundation__BrkTil HeatingQC         \n",
       "1754    Neighborhood__NAmes WoodDeckSF       \n",
       "6126    TotalBsmtSF EnclosedPorch            \n",
       "5100    BsmtFinType1__Unf FireplaceQu        \n",
       "1575    Neighborhood__Edwards OverallQual    \n",
       "2754    BldgType__TwnhsE KitchenQual         \n",
       "6140    1stFlrSF GrLivArea                   \n",
       "5290    CentralAir__N FireplaceQu            \n",
       "2043    Neighborhood__OldTown BsmtQual       \n",
       "6004    LotFrontage LotArea                  \n",
       "3839    Exterior2nd__CmentBd KitchenQual     \n",
       "311     MSZoning__RL YearRemodAdd            \n",
       "650     LotShape__Reg BsmtQual               \n",
       "2884    HouseStyle__1Story GarageType__Attchd\n",
       "5506    GarageType__Attchd GarageQual        \n",
       "6157    1stFlrSF OverallQual                 \n",
       "4542    Foundation__PConc GarageYrBlt        \n",
       "4293    MasVnrType__None 1stFlrSF            \n",
       "5467    Functional__Typ OverallQual          \n",
       "6180    GrLivArea EnclosedPorch              \n",
       "5273    CentralAir__N TotalBsmtSF            \n",
       "1477    Neighborhood__Crawfor OverallQual    \n",
       "430     MSZoning__RM EnclosedPorch           \n",
       "1278    Neighborhood__BrkSide OverallQual    \n",
       "3383    Exterior1st__CemntBd 1stFlrSF        \n",
       "4656    BsmtExposure__Gd 1stFlrSF            \n",
       "1075    LotConfig__CulDSac OverallQual       \n",
       "536     LotShape__IR1 WoodDeckSF             \n",
       "2908    HouseStyle__1Story GrLivArea         \n",
       "6120    TotalBsmtSF 2ndFlrSF                 \n",
       "3687    Exterior1st__VinylSd OpenPorchSF     \n",
       "847     LandContour__Lvl MasVnrArea          \n",
       "3758    Exterior1st__Wd Sdng WoodDeckSF      \n",
       "6060    YearBuilt GarageArea                 \n",
       "1474    Neighborhood__Crawfor FireplaceQu    \n",
       "756     LandContour__Bnk BsmtQual            \n",
       "635     LotShape__Reg YearRemodAdd           \n",
       "5953    SaleCondition__Normal LotArea        \n",
       "328     MSZoning__RL HeatingQC               \n",
       "5040    BsmtFinType1__Rec OpenPorchSF        \n",
       "2569    BldgType__1Fam 2ndFlrSF              \n",
       "4356    MasVnrType__Stone 1stFlrSF           \n",
       "5817    Fence__GdWo GarageArea               \n",
       "5274    CentralAir__N 1stFlrSF               \n",
       "Name: 0, dtype: object"
      ]
     },
     "execution_count": 75,
     "metadata": {},
     "output_type": "execute_result"
    }
   ],
   "source": [
    "top_interactions"
   ]
  },
  {
   "cell_type": "code",
   "execution_count": 76,
   "id": "considerable-wallet",
   "metadata": {},
   "outputs": [],
   "source": [
    "train_poly_X = pd.DataFrame(train_poly_X,columns=poly_names)"
   ]
  },
  {
   "cell_type": "markdown",
   "id": "turned-russell",
   "metadata": {},
   "source": [
    "train_poly_final has polynomial terms, top interaction terms, and other terms already existing"
   ]
  },
  {
   "cell_type": "code",
   "execution_count": 77,
   "id": "ranging-response",
   "metadata": {},
   "outputs": [],
   "source": [
    "train_poly_final_X = pd.concat([squared_num_cols,cubed_num_cols,train_poly_X[top_interactions],train_final_X],axis=1)"
   ]
  },
  {
   "cell_type": "code",
   "execution_count": 161,
   "id": "hindu-boulder",
   "metadata": {},
   "outputs": [
    {
     "data": {
      "text/plain": [
       "(1460, 188)"
      ]
     },
     "execution_count": 161,
     "metadata": {},
     "output_type": "execute_result"
    }
   ],
   "source": [
    "train_poly_final_X.shape"
   ]
  },
  {
   "cell_type": "code",
   "execution_count": 154,
   "id": "about-bible",
   "metadata": {},
   "outputs": [
    {
     "data": {
      "text/plain": [
       "-0.12398023700563539"
      ]
     },
     "execution_count": 154,
     "metadata": {},
     "output_type": "execute_result"
    }
   ],
   "source": [
    "model = LinearRegression()\n",
    "scores = cross_val_score(model, train_poly_final_X, train_Y, scoring='neg_root_mean_squared_error', cv=10, n_jobs=-1)\n",
    "scores.mean()"
   ]
  },
  {
   "cell_type": "code",
   "execution_count": 162,
   "id": "knowing-helen",
   "metadata": {},
   "outputs": [
    {
     "data": {
      "text/plain": [
       "LinearRegression(copy_X=True, fit_intercept=True, n_jobs=None, normalize=False)"
      ]
     },
     "execution_count": 162,
     "metadata": {},
     "output_type": "execute_result"
    }
   ],
   "source": [
    "X_train, X_test, y_train, y_test = train_test_split(train_poly_final_X, train_Y, test_size=0.1,random_state=111)\n",
    "model.fit(X_train, y_train)"
   ]
  },
  {
   "cell_type": "code",
   "execution_count": 163,
   "id": "running-genetics",
   "metadata": {},
   "outputs": [],
   "source": [
    "results = pd.DataFrame(data={'actual':y_test,'predicted':model.predict(X_test)})"
   ]
  },
  {
   "cell_type": "code",
   "execution_count": 157,
   "id": "aging-department",
   "metadata": {},
   "outputs": [
    {
     "data": {
      "text/html": [
       "<div>\n",
       "<style scoped>\n",
       "    .dataframe tbody tr th:only-of-type {\n",
       "        vertical-align: middle;\n",
       "    }\n",
       "\n",
       "    .dataframe tbody tr th {\n",
       "        vertical-align: top;\n",
       "    }\n",
       "\n",
       "    .dataframe thead th {\n",
       "        text-align: right;\n",
       "    }\n",
       "</style>\n",
       "<table border=\"1\" class=\"dataframe\">\n",
       "  <thead>\n",
       "    <tr style=\"text-align: right;\">\n",
       "      <th></th>\n",
       "      <th>actual</th>\n",
       "      <th>predicted</th>\n",
       "    </tr>\n",
       "  </thead>\n",
       "  <tbody>\n",
       "    <tr>\n",
       "      <th>1035</th>\n",
       "      <td>11.338572</td>\n",
       "      <td>11.333818</td>\n",
       "    </tr>\n",
       "    <tr>\n",
       "      <th>922</th>\n",
       "      <td>12.043495</td>\n",
       "      <td>12.164232</td>\n",
       "    </tr>\n",
       "    <tr>\n",
       "      <th>952</th>\n",
       "      <td>11.804849</td>\n",
       "      <td>11.855183</td>\n",
       "    </tr>\n",
       "    <tr>\n",
       "      <th>788</th>\n",
       "      <td>11.588960</td>\n",
       "      <td>11.596255</td>\n",
       "    </tr>\n",
       "    <tr>\n",
       "      <th>536</th>\n",
       "      <td>12.144197</td>\n",
       "      <td>12.244493</td>\n",
       "    </tr>\n",
       "    <tr>\n",
       "      <th>...</th>\n",
       "      <td>...</td>\n",
       "      <td>...</td>\n",
       "    </tr>\n",
       "    <tr>\n",
       "      <th>670</th>\n",
       "      <td>12.063933</td>\n",
       "      <td>12.070003</td>\n",
       "    </tr>\n",
       "    <tr>\n",
       "      <th>385</th>\n",
       "      <td>12.165251</td>\n",
       "      <td>12.158386</td>\n",
       "    </tr>\n",
       "    <tr>\n",
       "      <th>94</th>\n",
       "      <td>12.229545</td>\n",
       "      <td>12.193185</td>\n",
       "    </tr>\n",
       "    <tr>\n",
       "      <th>185</th>\n",
       "      <td>13.071070</td>\n",
       "      <td>12.563074</td>\n",
       "    </tr>\n",
       "    <tr>\n",
       "      <th>230</th>\n",
       "      <td>11.904968</td>\n",
       "      <td>11.836038</td>\n",
       "    </tr>\n",
       "  </tbody>\n",
       "</table>\n",
       "<p>146 rows × 2 columns</p>\n",
       "</div>"
      ],
      "text/plain": [
       "         actual  predicted\n",
       "1035  11.338572  11.333818\n",
       "922   12.043495  12.164232\n",
       "952   11.804849  11.855183\n",
       "788   11.588960  11.596255\n",
       "536   12.144197  12.244493\n",
       "...         ...        ...\n",
       "670   12.063933  12.070003\n",
       "385   12.165251  12.158386\n",
       "94    12.229545  12.193185\n",
       "185   13.071070  12.563074\n",
       "230   11.904968  11.836038\n",
       "\n",
       "[146 rows x 2 columns]"
      ]
     },
     "execution_count": 157,
     "metadata": {},
     "output_type": "execute_result"
    }
   ],
   "source": [
    "results"
   ]
  },
  {
   "cell_type": "code",
   "execution_count": 158,
   "id": "handled-tackle",
   "metadata": {},
   "outputs": [
    {
     "data": {
      "text/plain": [
       "0.1286718095558733"
      ]
     },
     "execution_count": 158,
     "metadata": {},
     "output_type": "execute_result"
    }
   ],
   "source": [
    "np.sqrt(np.sum(np.square(results['actual']-results['predicted']))/results.shape[0])"
   ]
  },
  {
   "cell_type": "code",
   "execution_count": 159,
   "id": "embedded-formula",
   "metadata": {},
   "outputs": [
    {
     "data": {
      "text/plain": [
       "<matplotlib.collections.PathCollection at 0x7ffc7a1efd90>"
      ]
     },
     "execution_count": 159,
     "metadata": {},
     "output_type": "execute_result"
    },
    {
     "data": {
      "image/png": "[encoded data removed]",
      "text/plain": [
       "<Figure size 432x288 with 1 Axes>"
      ]
     },
     "metadata": {
      "needs_background": "light"
     },
     "output_type": "display_data"
    }
   ],
   "source": [
    "plt.scatter(x='actual',y='predicted',data=results)"
   ]
  },
  {
   "cell_type": "code",
   "execution_count": 160,
   "id": "identical-algebra",
   "metadata": {},
   "outputs": [
    {
     "data": {
      "text/plain": [
       "<matplotlib.collections.PathCollection at 0x7ffc7a3de090>"
      ]
     },
     "execution_count": 160,
     "metadata": {},
     "output_type": "execute_result"
    },
    {
     "data": {
      "image/png": "[encoded data removed]",
      "text/plain": [
       "<Figure size 432x288 with 1 Axes>"
      ]
     },
     "metadata": {
      "needs_background": "light"
     },
     "output_type": "display_data"
    }
   ],
   "source": [
    "plt.scatter(x=results['actual'],y=results['predicted']-results['actual'])"
   ]
  },
  {
   "cell_type": "code",
   "execution_count": 164,
   "id": "suspected-parallel",
   "metadata": {},
   "outputs": [
    {
     "data": {
      "text/html": [
       "<div>\n",
       "<style scoped>\n",
       "    .dataframe tbody tr th:only-of-type {\n",
       "        vertical-align: middle;\n",
       "    }\n",
       "\n",
       "    .dataframe tbody tr th {\n",
       "        vertical-align: top;\n",
       "    }\n",
       "\n",
       "    .dataframe thead th {\n",
       "        text-align: right;\n",
       "    }\n",
       "</style>\n",
       "<table border=\"1\" class=\"dataframe\">\n",
       "  <thead>\n",
       "    <tr style=\"text-align: right;\">\n",
       "      <th></th>\n",
       "      <th>0</th>\n",
       "      <th>1</th>\n",
       "    </tr>\n",
       "  </thead>\n",
       "  <tbody>\n",
       "    <tr>\n",
       "      <th>151</th>\n",
       "      <td>GarageFinish__Unf</td>\n",
       "      <td>-0.116503</td>\n",
       "    </tr>\n",
       "    <tr>\n",
       "      <th>86</th>\n",
       "      <td>Neighborhood__BrkSide</td>\n",
       "      <td>-0.104697</td>\n",
       "    </tr>\n",
       "    <tr>\n",
       "      <th>150</th>\n",
       "      <td>GarageFinish__RFn</td>\n",
       "      <td>-0.100522</td>\n",
       "    </tr>\n",
       "    <tr>\n",
       "      <th>115</th>\n",
       "      <td>Exterior1st__Wd Sdng</td>\n",
       "      <td>-0.094550</td>\n",
       "    </tr>\n",
       "    <tr>\n",
       "      <th>137</th>\n",
       "      <td>BsmtFinType1__Unf</td>\n",
       "      <td>-0.091310</td>\n",
       "    </tr>\n",
       "    <tr>\n",
       "      <th>...</th>\n",
       "      <td>...</td>\n",
       "      <td>...</td>\n",
       "    </tr>\n",
       "    <tr>\n",
       "      <th>77</th>\n",
       "      <td>MSZoning__RL</td>\n",
       "      <td>0.092384</td>\n",
       "    </tr>\n",
       "    <tr>\n",
       "      <th>81</th>\n",
       "      <td>LandContour__Bnk</td>\n",
       "      <td>0.099849</td>\n",
       "    </tr>\n",
       "    <tr>\n",
       "      <th>16</th>\n",
       "      <td>YearBuilt_3</td>\n",
       "      <td>0.102492</td>\n",
       "    </tr>\n",
       "    <tr>\n",
       "      <th>129</th>\n",
       "      <td>BsmtExposure__Gd</td>\n",
       "      <td>0.109216</td>\n",
       "    </tr>\n",
       "    <tr>\n",
       "      <th>76</th>\n",
       "      <td>MSZoning__FV</td>\n",
       "      <td>0.136942</td>\n",
       "    </tr>\n",
       "  </tbody>\n",
       "</table>\n",
       "<p>188 rows × 2 columns</p>\n",
       "</div>"
      ],
      "text/plain": [
       "                         0         1\n",
       "151  GarageFinish__Unf     -0.116503\n",
       "86   Neighborhood__BrkSide -0.104697\n",
       "150  GarageFinish__RFn     -0.100522\n",
       "115  Exterior1st__Wd Sdng  -0.094550\n",
       "137  BsmtFinType1__Unf     -0.091310\n",
       "..                 ...           ...\n",
       "77   MSZoning__RL           0.092384\n",
       "81   LandContour__Bnk       0.099849\n",
       "16   YearBuilt_3            0.102492\n",
       "129  BsmtExposure__Gd       0.109216\n",
       "76   MSZoning__FV           0.136942\n",
       "\n",
       "[188 rows x 2 columns]"
      ]
     },
     "execution_count": 164,
     "metadata": {},
     "output_type": "execute_result"
    }
   ],
   "source": [
    "pd.DataFrame(zip(train_poly_final_X.columns, model.coef_)).sort_values(by=1)"
   ]
  },
  {
   "cell_type": "markdown",
   "id": "extreme-neutral",
   "metadata": {},
   "source": [
    "seems somewhat better, lower RMSE and less weird coefficients. But the residuals are still in a strange pattern. Now trying Ridge, Lasso and ElasticNet"
   ]
  },
  {
   "cell_type": "code",
   "execution_count": 106,
   "id": "solar-nevada",
   "metadata": {},
   "outputs": [
    {
     "data": {
      "text/plain": [
       "-0.12244763448067975"
      ]
     },
     "execution_count": 106,
     "metadata": {},
     "output_type": "execute_result"
    }
   ],
   "source": [
    "model = Ridge(alpha=1.0)\n",
    "scores = cross_val_score(model, train_poly_final_X, train_Y, scoring='neg_root_mean_squared_error', cv=10, n_jobs=-1)\n",
    "scores.mean()"
   ]
  },
  {
   "cell_type": "code",
   "execution_count": 107,
   "id": "sticky-suspension",
   "metadata": {},
   "outputs": [
    {
     "data": {
      "text/plain": [
       "-0.1184557196750741"
      ]
     },
     "execution_count": 107,
     "metadata": {},
     "output_type": "execute_result"
    }
   ],
   "source": [
    "model = Ridge(alpha=20,solver='auto')\n",
    "scores = cross_val_score(model, train_poly_final_X, train_Y, scoring='neg_root_mean_squared_error', cv=10, n_jobs=-1)\n",
    "scores.mean()"
   ]
  },
  {
   "cell_type": "code",
   "execution_count": 108,
   "id": "arabic-reproduction",
   "metadata": {},
   "outputs": [
    {
     "data": {
      "text/plain": [
       "Ridge(alpha=20, copy_X=True, fit_intercept=True, max_iter=None, normalize=False,\n",
       "      random_state=None, solver='auto', tol=0.001)"
      ]
     },
     "execution_count": 108,
     "metadata": {},
     "output_type": "execute_result"
    }
   ],
   "source": [
    "model.fit(X_train, y_train)"
   ]
  },
  {
   "cell_type": "code",
   "execution_count": 109,
   "id": "welcome-welsh",
   "metadata": {},
   "outputs": [],
   "source": [
    "results = pd.DataFrame(data={'actual':y_test,'predicted':model.predict(X_test)})"
   ]
  },
  {
   "cell_type": "code",
   "execution_count": 110,
   "id": "psychological-mandate",
   "metadata": {},
   "outputs": [
    {
     "data": {
      "text/plain": [
       "0.1259466140631424"
      ]
     },
     "execution_count": 110,
     "metadata": {},
     "output_type": "execute_result"
    }
   ],
   "source": [
    "np.sqrt(np.sum(np.square(results['actual']-results['predicted']))/results.shape[0])"
   ]
  },
  {
   "cell_type": "code",
   "execution_count": 111,
   "id": "approved-zambia",
   "metadata": {},
   "outputs": [
    {
     "data": {
      "text/plain": [
       "<matplotlib.collections.PathCollection at 0x7ffc7b5f1890>"
      ]
     },
     "execution_count": 111,
     "metadata": {},
     "output_type": "execute_result"
    },
    {
     "data": {
      "image/png": "[encoded data removed]",
      "text/plain": [
       "<Figure size 432x288 with 1 Axes>"
      ]
     },
     "metadata": {
      "needs_background": "light"
     },
     "output_type": "display_data"
    }
   ],
   "source": [
    "plt.scatter(x='actual',y='predicted',data=results)"
   ]
  },
  {
   "cell_type": "code",
   "execution_count": 112,
   "id": "floating-boulder",
   "metadata": {},
   "outputs": [
    {
     "data": {
      "text/plain": [
       "<matplotlib.collections.PathCollection at 0x7ffc7cb77790>"
      ]
     },
     "execution_count": 112,
     "metadata": {},
     "output_type": "execute_result"
    },
    {
     "data": {
      "image/png": "[encoded data removed]",
      "text/plain": [
       "<Figure size 432x288 with 1 Axes>"
      ]
     },
     "metadata": {
      "needs_background": "light"
     },
     "output_type": "display_data"
    }
   ],
   "source": [
    "plt.scatter(x=results['actual'],y=results['predicted']-results['actual'])"
   ]
  },
  {
   "cell_type": "code",
   "execution_count": 113,
   "id": "athletic-battery",
   "metadata": {},
   "outputs": [
    {
     "data": {
      "text/html": [
       "<div>\n",
       "<style scoped>\n",
       "    .dataframe tbody tr th:only-of-type {\n",
       "        vertical-align: middle;\n",
       "    }\n",
       "\n",
       "    .dataframe tbody tr th {\n",
       "        vertical-align: top;\n",
       "    }\n",
       "\n",
       "    .dataframe thead th {\n",
       "        text-align: right;\n",
       "    }\n",
       "</style>\n",
       "<table border=\"1\" class=\"dataframe\">\n",
       "  <thead>\n",
       "    <tr style=\"text-align: right;\">\n",
       "      <th></th>\n",
       "      <th>0</th>\n",
       "      <th>1</th>\n",
       "    </tr>\n",
       "  </thead>\n",
       "  <tbody>\n",
       "    <tr>\n",
       "      <th>159</th>\n",
       "      <td>SaleCondition__Abnorml</td>\n",
       "      <td>-0.043622</td>\n",
       "    </tr>\n",
       "    <tr>\n",
       "      <th>28</th>\n",
       "      <td>Neighborhood__NAmes GrLivArea</td>\n",
       "      <td>-0.042045</td>\n",
       "    </tr>\n",
       "    <tr>\n",
       "      <th>91</th>\n",
       "      <td>Neighborhood__NAmes</td>\n",
       "      <td>-0.029509</td>\n",
       "    </tr>\n",
       "    <tr>\n",
       "      <th>111</th>\n",
       "      <td>Exterior1st__HdBoard</td>\n",
       "      <td>-0.029399</td>\n",
       "    </tr>\n",
       "    <tr>\n",
       "      <th>30</th>\n",
       "      <td>LandContour__Bnk OverallQual</td>\n",
       "      <td>-0.028132</td>\n",
       "    </tr>\n",
       "    <tr>\n",
       "      <th>...</th>\n",
       "      <td>...</td>\n",
       "      <td>...</td>\n",
       "    </tr>\n",
       "    <tr>\n",
       "      <th>74</th>\n",
       "      <td>Fence__GdWo GarageArea</td>\n",
       "      <td>0.040983</td>\n",
       "    </tr>\n",
       "    <tr>\n",
       "      <th>187</th>\n",
       "      <td>OverallQual</td>\n",
       "      <td>0.043609</td>\n",
       "    </tr>\n",
       "    <tr>\n",
       "      <th>169</th>\n",
       "      <td>2ndFlrSF</td>\n",
       "      <td>0.045665</td>\n",
       "    </tr>\n",
       "    <tr>\n",
       "      <th>73</th>\n",
       "      <td>MasVnrType__Stone 1stFlrSF</td>\n",
       "      <td>0.052728</td>\n",
       "    </tr>\n",
       "    <tr>\n",
       "      <th>170</th>\n",
       "      <td>GrLivArea</td>\n",
       "      <td>0.053452</td>\n",
       "    </tr>\n",
       "  </tbody>\n",
       "</table>\n",
       "<p>188 rows × 2 columns</p>\n",
       "</div>"
      ],
      "text/plain": [
       "                                 0         1\n",
       "159  SaleCondition__Abnorml        -0.043622\n",
       "28   Neighborhood__NAmes GrLivArea -0.042045\n",
       "91   Neighborhood__NAmes           -0.029509\n",
       "111  Exterior1st__HdBoard          -0.029399\n",
       "30   LandContour__Bnk OverallQual  -0.028132\n",
       "..                            ...        ...\n",
       "74   Fence__GdWo GarageArea         0.040983\n",
       "187  OverallQual                    0.043609\n",
       "169  2ndFlrSF                       0.045665\n",
       "73   MasVnrType__Stone 1stFlrSF     0.052728\n",
       "170  GrLivArea                      0.053452\n",
       "\n",
       "[188 rows x 2 columns]"
      ]
     },
     "execution_count": 113,
     "metadata": {},
     "output_type": "execute_result"
    }
   ],
   "source": [
    "pd.DataFrame(zip(train_poly_final_X.columns, model.coef_)).sort_values(by=1)"
   ]
  },
  {
   "cell_type": "code",
   "execution_count": 114,
   "id": "encouraging-technique",
   "metadata": {},
   "outputs": [
    {
     "data": {
      "text/html": [
       "<div>\n",
       "<style scoped>\n",
       "    .dataframe tbody tr th:only-of-type {\n",
       "        vertical-align: middle;\n",
       "    }\n",
       "\n",
       "    .dataframe tbody tr th {\n",
       "        vertical-align: top;\n",
       "    }\n",
       "\n",
       "    .dataframe thead th {\n",
       "        text-align: right;\n",
       "    }\n",
       "</style>\n",
       "<table border=\"1\" class=\"dataframe\">\n",
       "  <thead>\n",
       "    <tr style=\"text-align: right;\">\n",
       "      <th></th>\n",
       "      <th>0</th>\n",
       "      <th>1</th>\n",
       "    </tr>\n",
       "  </thead>\n",
       "  <tbody>\n",
       "    <tr>\n",
       "      <th>159</th>\n",
       "      <td>SaleCondition__Abnorml</td>\n",
       "      <td>-0.043622</td>\n",
       "    </tr>\n",
       "    <tr>\n",
       "      <th>28</th>\n",
       "      <td>Neighborhood__NAmes GrLivArea</td>\n",
       "      <td>-0.042045</td>\n",
       "    </tr>\n",
       "    <tr>\n",
       "      <th>91</th>\n",
       "      <td>Neighborhood__NAmes</td>\n",
       "      <td>-0.029509</td>\n",
       "    </tr>\n",
       "    <tr>\n",
       "      <th>111</th>\n",
       "      <td>Exterior1st__HdBoard</td>\n",
       "      <td>-0.029399</td>\n",
       "    </tr>\n",
       "    <tr>\n",
       "      <th>30</th>\n",
       "      <td>LandContour__Bnk OverallQual</td>\n",
       "      <td>-0.028132</td>\n",
       "    </tr>\n",
       "    <tr>\n",
       "      <th>1</th>\n",
       "      <td>LotArea_^2</td>\n",
       "      <td>-0.027472</td>\n",
       "    </tr>\n",
       "    <tr>\n",
       "      <th>38</th>\n",
       "      <td>1stFlrSF GrLivArea</td>\n",
       "      <td>-0.025809</td>\n",
       "    </tr>\n",
       "    <tr>\n",
       "      <th>79</th>\n",
       "      <td>LotShape__IR1</td>\n",
       "      <td>-0.023896</td>\n",
       "    </tr>\n",
       "    <tr>\n",
       "      <th>87</th>\n",
       "      <td>Neighborhood__CollgCr</td>\n",
       "      <td>-0.021625</td>\n",
       "    </tr>\n",
       "    <tr>\n",
       "      <th>33</th>\n",
       "      <td>Neighborhood__NAmes WoodDeckSF</td>\n",
       "      <td>-0.020995</td>\n",
       "    </tr>\n",
       "    <tr>\n",
       "      <th>131</th>\n",
       "      <td>BsmtExposure__No</td>\n",
       "      <td>-0.020669</td>\n",
       "    </tr>\n",
       "    <tr>\n",
       "      <th>43</th>\n",
       "      <td>MSZoning__RL YearRemodAdd</td>\n",
       "      <td>-0.020241</td>\n",
       "    </tr>\n",
       "    <tr>\n",
       "      <th>166</th>\n",
       "      <td>MasVnrArea</td>\n",
       "      <td>-0.018023</td>\n",
       "    </tr>\n",
       "    <tr>\n",
       "      <th>101</th>\n",
       "      <td>BldgType__Duplex</td>\n",
       "      <td>-0.017949</td>\n",
       "    </tr>\n",
       "    <tr>\n",
       "      <th>35</th>\n",
       "      <td>BsmtFinType1__Unf FireplaceQu</td>\n",
       "      <td>-0.017691</td>\n",
       "    </tr>\n",
       "    <tr>\n",
       "      <th>120</th>\n",
       "      <td>Exterior2nd__VinylSd</td>\n",
       "      <td>-0.015575</td>\n",
       "    </tr>\n",
       "    <tr>\n",
       "      <th>164</th>\n",
       "      <td>YearBuilt</td>\n",
       "      <td>-0.014083</td>\n",
       "    </tr>\n",
       "    <tr>\n",
       "      <th>119</th>\n",
       "      <td>Exterior2nd__Plywood</td>\n",
       "      <td>-0.013905</td>\n",
       "    </tr>\n",
       "    <tr>\n",
       "      <th>92</th>\n",
       "      <td>Neighborhood__NWAmes</td>\n",
       "      <td>-0.013769</td>\n",
       "    </tr>\n",
       "    <tr>\n",
       "      <th>133</th>\n",
       "      <td>BsmtFinType1__BLQ</td>\n",
       "      <td>-0.013379</td>\n",
       "    </tr>\n",
       "  </tbody>\n",
       "</table>\n",
       "</div>"
      ],
      "text/plain": [
       "                                  0         1\n",
       "159  SaleCondition__Abnorml         -0.043622\n",
       "28   Neighborhood__NAmes GrLivArea  -0.042045\n",
       "91   Neighborhood__NAmes            -0.029509\n",
       "111  Exterior1st__HdBoard           -0.029399\n",
       "30   LandContour__Bnk OverallQual   -0.028132\n",
       "1    LotArea_^2                     -0.027472\n",
       "38   1stFlrSF GrLivArea             -0.025809\n",
       "79   LotShape__IR1                  -0.023896\n",
       "87   Neighborhood__CollgCr          -0.021625\n",
       "33   Neighborhood__NAmes WoodDeckSF -0.020995\n",
       "131  BsmtExposure__No               -0.020669\n",
       "43   MSZoning__RL YearRemodAdd      -0.020241\n",
       "166  MasVnrArea                     -0.018023\n",
       "101  BldgType__Duplex               -0.017949\n",
       "35   BsmtFinType1__Unf FireplaceQu  -0.017691\n",
       "120  Exterior2nd__VinylSd           -0.015575\n",
       "164  YearBuilt                      -0.014083\n",
       "119  Exterior2nd__Plywood           -0.013905\n",
       "92   Neighborhood__NWAmes           -0.013769\n",
       "133  BsmtFinType1__BLQ              -0.013379"
      ]
     },
     "execution_count": 114,
     "metadata": {},
     "output_type": "execute_result"
    }
   ],
   "source": [
    "pd.DataFrame(zip(train_poly_final_X.columns, model.coef_)).sort_values(by=1).head(20)"
   ]
  },
  {
   "cell_type": "code",
   "execution_count": 115,
   "id": "cathedral-rainbow",
   "metadata": {},
   "outputs": [
    {
     "data": {
      "text/html": [
       "<div>\n",
       "<style scoped>\n",
       "    .dataframe tbody tr th:only-of-type {\n",
       "        vertical-align: middle;\n",
       "    }\n",
       "\n",
       "    .dataframe tbody tr th {\n",
       "        vertical-align: top;\n",
       "    }\n",
       "\n",
       "    .dataframe thead th {\n",
       "        text-align: right;\n",
       "    }\n",
       "</style>\n",
       "<table border=\"1\" class=\"dataframe\">\n",
       "  <thead>\n",
       "    <tr style=\"text-align: right;\">\n",
       "      <th></th>\n",
       "      <th>0</th>\n",
       "      <th>1</th>\n",
       "    </tr>\n",
       "  </thead>\n",
       "  <tbody>\n",
       "    <tr>\n",
       "      <th>57</th>\n",
       "      <td>BsmtExposure__Gd 1stFlrSF</td>\n",
       "      <td>0.027685</td>\n",
       "    </tr>\n",
       "    <tr>\n",
       "      <th>165</th>\n",
       "      <td>YearRemodAdd</td>\n",
       "      <td>0.027874</td>\n",
       "    </tr>\n",
       "    <tr>\n",
       "      <th>163</th>\n",
       "      <td>LotArea</td>\n",
       "      <td>0.027923</td>\n",
       "    </tr>\n",
       "    <tr>\n",
       "      <th>148</th>\n",
       "      <td>GarageType__Detchd</td>\n",
       "      <td>0.028044</td>\n",
       "    </tr>\n",
       "    <tr>\n",
       "      <th>75</th>\n",
       "      <td>CentralAir__N 1stFlrSF</td>\n",
       "      <td>0.029916</td>\n",
       "    </tr>\n",
       "    <tr>\n",
       "      <th>71</th>\n",
       "      <td>BsmtFinType1__Rec OpenPorchSF</td>\n",
       "      <td>0.031120</td>\n",
       "    </tr>\n",
       "    <tr>\n",
       "      <th>160</th>\n",
       "      <td>SaleCondition__Normal</td>\n",
       "      <td>0.031609</td>\n",
       "    </tr>\n",
       "    <tr>\n",
       "      <th>99</th>\n",
       "      <td>Condition1__Norm</td>\n",
       "      <td>0.032530</td>\n",
       "    </tr>\n",
       "    <tr>\n",
       "      <th>121</th>\n",
       "      <td>Exterior2nd__Wd Sdng</td>\n",
       "      <td>0.033512</td>\n",
       "    </tr>\n",
       "    <tr>\n",
       "      <th>129</th>\n",
       "      <td>BsmtExposure__Gd</td>\n",
       "      <td>0.034457</td>\n",
       "    </tr>\n",
       "    <tr>\n",
       "      <th>157</th>\n",
       "      <td>SaleType__New</td>\n",
       "      <td>0.036830</td>\n",
       "    </tr>\n",
       "    <tr>\n",
       "      <th>45</th>\n",
       "      <td>HouseStyle__1Story GarageType__Attchd</td>\n",
       "      <td>0.037012</td>\n",
       "    </tr>\n",
       "    <tr>\n",
       "      <th>67</th>\n",
       "      <td>LandContour__Bnk BsmtQual</td>\n",
       "      <td>0.037409</td>\n",
       "    </tr>\n",
       "    <tr>\n",
       "      <th>69</th>\n",
       "      <td>SaleCondition__Normal LotArea</td>\n",
       "      <td>0.039201</td>\n",
       "    </tr>\n",
       "    <tr>\n",
       "      <th>167</th>\n",
       "      <td>TotalBsmtSF</td>\n",
       "      <td>0.039352</td>\n",
       "    </tr>\n",
       "    <tr>\n",
       "      <th>74</th>\n",
       "      <td>Fence__GdWo GarageArea</td>\n",
       "      <td>0.040983</td>\n",
       "    </tr>\n",
       "    <tr>\n",
       "      <th>187</th>\n",
       "      <td>OverallQual</td>\n",
       "      <td>0.043609</td>\n",
       "    </tr>\n",
       "    <tr>\n",
       "      <th>169</th>\n",
       "      <td>2ndFlrSF</td>\n",
       "      <td>0.045665</td>\n",
       "    </tr>\n",
       "    <tr>\n",
       "      <th>73</th>\n",
       "      <td>MasVnrType__Stone 1stFlrSF</td>\n",
       "      <td>0.052728</td>\n",
       "    </tr>\n",
       "    <tr>\n",
       "      <th>170</th>\n",
       "      <td>GrLivArea</td>\n",
       "      <td>0.053452</td>\n",
       "    </tr>\n",
       "  </tbody>\n",
       "</table>\n",
       "</div>"
      ],
      "text/plain": [
       "                                         0         1\n",
       "57   BsmtExposure__Gd 1stFlrSF              0.027685\n",
       "165  YearRemodAdd                           0.027874\n",
       "163  LotArea                                0.027923\n",
       "148  GarageType__Detchd                     0.028044\n",
       "75   CentralAir__N 1stFlrSF                 0.029916\n",
       "71   BsmtFinType1__Rec OpenPorchSF          0.031120\n",
       "160  SaleCondition__Normal                  0.031609\n",
       "99   Condition1__Norm                       0.032530\n",
       "121  Exterior2nd__Wd Sdng                   0.033512\n",
       "129  BsmtExposure__Gd                       0.034457\n",
       "157  SaleType__New                          0.036830\n",
       "45   HouseStyle__1Story GarageType__Attchd  0.037012\n",
       "67   LandContour__Bnk BsmtQual              0.037409\n",
       "69   SaleCondition__Normal LotArea          0.039201\n",
       "167  TotalBsmtSF                            0.039352\n",
       "74   Fence__GdWo GarageArea                 0.040983\n",
       "187  OverallQual                            0.043609\n",
       "169  2ndFlrSF                               0.045665\n",
       "73   MasVnrType__Stone 1stFlrSF             0.052728\n",
       "170  GrLivArea                              0.053452"
      ]
     },
     "execution_count": 115,
     "metadata": {},
     "output_type": "execute_result"
    }
   ],
   "source": [
    "pd.DataFrame(zip(train_poly_final_X.columns, model.coef_)).sort_values(by=1).tail(20)"
   ]
  },
  {
   "cell_type": "code",
   "execution_count": 116,
   "id": "varied-remove",
   "metadata": {},
   "outputs": [
    {
     "data": {
      "text/plain": [
       "-0.3514456830262019"
      ]
     },
     "execution_count": 116,
     "metadata": {},
     "output_type": "execute_result"
    }
   ],
   "source": [
    "model = Lasso(alpha=1.0)\n",
    "scores = cross_val_score(model,  train_poly_final_X, train_Y, scoring='neg_root_mean_squared_error', cv=10, n_jobs=-1)\n",
    "scores.mean()"
   ]
  },
  {
   "cell_type": "code",
   "execution_count": 117,
   "id": "atomic-seattle",
   "metadata": {},
   "outputs": [
    {
     "data": {
      "text/plain": [
       "-0.12035900554162293"
      ]
     },
     "execution_count": 117,
     "metadata": {},
     "output_type": "execute_result"
    }
   ],
   "source": [
    "model = Lasso(alpha=0.0001,max_iter=5000,fit_intercept=True)\n",
    "scores = cross_val_score(model,  train_poly_final_X, train_Y, scoring='neg_root_mean_squared_error', cv=10, n_jobs=-1)\n",
    "scores.mean()"
   ]
  },
  {
   "cell_type": "markdown",
   "id": "vocational-definition",
   "metadata": {},
   "source": [
    "Going to try to remove zero-ed out terms from Lasso"
   ]
  },
  {
   "cell_type": "code",
   "execution_count": 118,
   "id": "natural-liquid",
   "metadata": {},
   "outputs": [
    {
     "data": {
      "text/plain": [
       "Lasso(alpha=0.0001, copy_X=True, fit_intercept=True, max_iter=5000,\n",
       "      normalize=False, positive=False, precompute=False, random_state=None,\n",
       "      selection='cyclic', tol=0.0001, warm_start=False)"
      ]
     },
     "execution_count": 118,
     "metadata": {},
     "output_type": "execute_result"
    }
   ],
   "source": [
    "model.fit(train_poly_final_X, train_Y)"
   ]
  },
  {
   "cell_type": "code",
   "execution_count": 119,
   "id": "united-briefs",
   "metadata": {},
   "outputs": [],
   "source": [
    "results = pd.DataFrame(data={'actual':train_Y,'predicted':model.predict(train_poly_final_X)})"
   ]
  },
  {
   "cell_type": "code",
   "execution_count": 120,
   "id": "corporate-compensation",
   "metadata": {},
   "outputs": [],
   "source": [
    "coefs = pd.DataFrame(zip(train_poly_final_X.columns, model.coef_)).sort_values(by=1)"
   ]
  },
  {
   "cell_type": "code",
   "execution_count": 124,
   "id": "arranged-discussion",
   "metadata": {},
   "outputs": [
    {
     "data": {
      "text/html": [
       "<div>\n",
       "<style scoped>\n",
       "    .dataframe tbody tr th:only-of-type {\n",
       "        vertical-align: middle;\n",
       "    }\n",
       "\n",
       "    .dataframe tbody tr th {\n",
       "        vertical-align: top;\n",
       "    }\n",
       "\n",
       "    .dataframe thead th {\n",
       "        text-align: right;\n",
       "    }\n",
       "</style>\n",
       "<table border=\"1\" class=\"dataframe\">\n",
       "  <thead>\n",
       "    <tr style=\"text-align: right;\">\n",
       "      <th></th>\n",
       "      <th>0</th>\n",
       "      <th>1</th>\n",
       "      <th>2</th>\n",
       "    </tr>\n",
       "  </thead>\n",
       "  <tbody>\n",
       "    <tr>\n",
       "      <th>111</th>\n",
       "      <td>Exterior1st__HdBoard</td>\n",
       "      <td>-0.053091</td>\n",
       "      <td>0.053091</td>\n",
       "    </tr>\n",
       "    <tr>\n",
       "      <th>28</th>\n",
       "      <td>Neighborhood__NAmes GrLivArea</td>\n",
       "      <td>-0.052561</td>\n",
       "      <td>0.052561</td>\n",
       "    </tr>\n",
       "    <tr>\n",
       "      <th>91</th>\n",
       "      <td>Neighborhood__NAmes</td>\n",
       "      <td>-0.046311</td>\n",
       "      <td>0.046311</td>\n",
       "    </tr>\n",
       "    <tr>\n",
       "      <th>159</th>\n",
       "      <td>SaleCondition__Abnorml</td>\n",
       "      <td>-0.044289</td>\n",
       "      <td>0.044289</td>\n",
       "    </tr>\n",
       "    <tr>\n",
       "      <th>164</th>\n",
       "      <td>YearBuilt</td>\n",
       "      <td>-0.043679</td>\n",
       "      <td>0.043679</td>\n",
       "    </tr>\n",
       "    <tr>\n",
       "      <th>115</th>\n",
       "      <td>Exterior1st__Wd Sdng</td>\n",
       "      <td>-0.041261</td>\n",
       "      <td>0.041261</td>\n",
       "    </tr>\n",
       "    <tr>\n",
       "      <th>1</th>\n",
       "      <td>LotArea_^2</td>\n",
       "      <td>-0.035582</td>\n",
       "      <td>0.035582</td>\n",
       "    </tr>\n",
       "    <tr>\n",
       "      <th>30</th>\n",
       "      <td>LandContour__Bnk OverallQual</td>\n",
       "      <td>-0.029095</td>\n",
       "      <td>0.029095</td>\n",
       "    </tr>\n",
       "    <tr>\n",
       "      <th>151</th>\n",
       "      <td>GarageFinish__Unf</td>\n",
       "      <td>-0.028621</td>\n",
       "      <td>0.028621</td>\n",
       "    </tr>\n",
       "    <tr>\n",
       "      <th>79</th>\n",
       "      <td>LotShape__IR1</td>\n",
       "      <td>-0.027421</td>\n",
       "      <td>0.027421</td>\n",
       "    </tr>\n",
       "  </tbody>\n",
       "</table>\n",
       "</div>"
      ],
      "text/plain": [
       "                                 0         1         2\n",
       "111  Exterior1st__HdBoard          -0.053091  0.053091\n",
       "28   Neighborhood__NAmes GrLivArea -0.052561  0.052561\n",
       "91   Neighborhood__NAmes           -0.046311  0.046311\n",
       "159  SaleCondition__Abnorml        -0.044289  0.044289\n",
       "164  YearBuilt                     -0.043679  0.043679\n",
       "115  Exterior1st__Wd Sdng          -0.041261  0.041261\n",
       "1    LotArea_^2                    -0.035582  0.035582\n",
       "30   LandContour__Bnk OverallQual  -0.029095  0.029095\n",
       "151  GarageFinish__Unf             -0.028621  0.028621\n",
       "79   LotShape__IR1                 -0.027421  0.027421"
      ]
     },
     "execution_count": 124,
     "metadata": {},
     "output_type": "execute_result"
    }
   ],
   "source": [
    "coefs.head(10)"
   ]
  },
  {
   "cell_type": "code",
   "execution_count": 125,
   "id": "instrumental-cannon",
   "metadata": {},
   "outputs": [
    {
     "data": {
      "text/html": [
       "<div>\n",
       "<style scoped>\n",
       "    .dataframe tbody tr th:only-of-type {\n",
       "        vertical-align: middle;\n",
       "    }\n",
       "\n",
       "    .dataframe tbody tr th {\n",
       "        vertical-align: top;\n",
       "    }\n",
       "\n",
       "    .dataframe thead th {\n",
       "        text-align: right;\n",
       "    }\n",
       "</style>\n",
       "<table border=\"1\" class=\"dataframe\">\n",
       "  <thead>\n",
       "    <tr style=\"text-align: right;\">\n",
       "      <th></th>\n",
       "      <th>0</th>\n",
       "      <th>1</th>\n",
       "      <th>2</th>\n",
       "    </tr>\n",
       "  </thead>\n",
       "  <tbody>\n",
       "    <tr>\n",
       "      <th>121</th>\n",
       "      <td>Exterior2nd__Wd Sdng</td>\n",
       "      <td>0.053888</td>\n",
       "      <td>0.053888</td>\n",
       "    </tr>\n",
       "    <tr>\n",
       "      <th>74</th>\n",
       "      <td>Fence__GdWo GarageArea</td>\n",
       "      <td>0.055160</td>\n",
       "      <td>0.055160</td>\n",
       "    </tr>\n",
       "    <tr>\n",
       "      <th>167</th>\n",
       "      <td>TotalBsmtSF</td>\n",
       "      <td>0.057027</td>\n",
       "      <td>0.057027</td>\n",
       "    </tr>\n",
       "    <tr>\n",
       "      <th>169</th>\n",
       "      <td>2ndFlrSF</td>\n",
       "      <td>0.058790</td>\n",
       "      <td>0.058790</td>\n",
       "    </tr>\n",
       "    <tr>\n",
       "      <th>73</th>\n",
       "      <td>MasVnrType__Stone 1stFlrSF</td>\n",
       "      <td>0.064922</td>\n",
       "      <td>0.064922</td>\n",
       "    </tr>\n",
       "    <tr>\n",
       "      <th>170</th>\n",
       "      <td>GrLivArea</td>\n",
       "      <td>0.065632</td>\n",
       "      <td>0.065632</td>\n",
       "    </tr>\n",
       "    <tr>\n",
       "      <th>78</th>\n",
       "      <td>MSZoning__RM</td>\n",
       "      <td>0.067519</td>\n",
       "      <td>0.067519</td>\n",
       "    </tr>\n",
       "    <tr>\n",
       "      <th>157</th>\n",
       "      <td>SaleType__New</td>\n",
       "      <td>0.076014</td>\n",
       "      <td>0.076014</td>\n",
       "    </tr>\n",
       "    <tr>\n",
       "      <th>77</th>\n",
       "      <td>MSZoning__RL</td>\n",
       "      <td>0.077087</td>\n",
       "      <td>0.077087</td>\n",
       "    </tr>\n",
       "    <tr>\n",
       "      <th>76</th>\n",
       "      <td>MSZoning__FV</td>\n",
       "      <td>0.090309</td>\n",
       "      <td>0.090309</td>\n",
       "    </tr>\n",
       "  </tbody>\n",
       "</table>\n",
       "</div>"
      ],
      "text/plain": [
       "                              0         1         2\n",
       "121  Exterior2nd__Wd Sdng        0.053888  0.053888\n",
       "74   Fence__GdWo GarageArea      0.055160  0.055160\n",
       "167  TotalBsmtSF                 0.057027  0.057027\n",
       "169  2ndFlrSF                    0.058790  0.058790\n",
       "73   MasVnrType__Stone 1stFlrSF  0.064922  0.064922\n",
       "170  GrLivArea                   0.065632  0.065632\n",
       "78   MSZoning__RM                0.067519  0.067519\n",
       "157  SaleType__New               0.076014  0.076014\n",
       "77   MSZoning__RL                0.077087  0.077087\n",
       "76   MSZoning__FV                0.090309  0.090309"
      ]
     },
     "execution_count": 125,
     "metadata": {},
     "output_type": "execute_result"
    }
   ],
   "source": [
    "coefs.tail(10)"
   ]
  },
  {
   "cell_type": "code",
   "execution_count": 121,
   "id": "coupled-flight",
   "metadata": {},
   "outputs": [],
   "source": [
    "coefs[2]=np.absolute(coefs[1])"
   ]
  },
  {
   "cell_type": "code",
   "execution_count": 122,
   "id": "revised-evanescence",
   "metadata": {},
   "outputs": [],
   "source": [
    "zeroed_columns = coefs[coefs[2]==0][0]"
   ]
  },
  {
   "cell_type": "code",
   "execution_count": 123,
   "id": "unlike-investment",
   "metadata": {},
   "outputs": [
    {
     "data": {
      "text/plain": [
       "88     Neighborhood__Crawfor\n",
       "89     Neighborhood__Edwards\n",
       "4      MasVnrArea_^2        \n",
       "97     Neighborhood__Somerst\n",
       "130    BsmtExposure__Mn     \n",
       "84     LotConfig__CulDSac   \n",
       "136    BsmtFinType1__Rec    \n",
       "119    Exterior2nd__Plywood \n",
       "108    RoofStyle__Hip       \n",
       "110    Exterior1st__CemntBd \n",
       "118    Exterior2nd__MetalSd \n",
       "114    Exterior1st__VinylSd \n",
       "128    BsmtExposure__Av     \n",
       "171    GarageYrBlt          \n",
       "116    Exterior2nd__CmentBd \n",
       "177    NoGarage             \n",
       "141    CentralAir__N        \n",
       "81     LandContour__Bnk     \n",
       "154    Fence__GdPrv         \n",
       "149    GarageFinish__Fin    \n",
       "80     LotShape__Reg        \n",
       "142    CentralAir__Y        \n",
       "143    Electrical__FuseA    \n",
       "146    GarageType__Attchd   \n",
       "176    No2ndFloor           \n",
       "138    BsmtFinType2__Rec    \n",
       "178    NoEnclosedPorch      \n",
       "Name: 0, dtype: object"
      ]
     },
     "execution_count": 123,
     "metadata": {},
     "output_type": "execute_result"
    }
   ],
   "source": [
    "zeroed_columns"
   ]
  },
  {
   "cell_type": "code",
   "execution_count": 128,
   "id": "bearing-complex",
   "metadata": {},
   "outputs": [],
   "source": [
    "train_poly_final_X_drop = train_poly_final_X.drop(zeroed_columns,axis=1)"
   ]
  },
  {
   "cell_type": "code",
   "execution_count": 129,
   "id": "duplicate-current",
   "metadata": {},
   "outputs": [
    {
     "data": {
      "text/plain": [
       "-0.11916774943971883"
      ]
     },
     "execution_count": 129,
     "metadata": {},
     "output_type": "execute_result"
    }
   ],
   "source": [
    "model = Lasso(alpha=0.0001,max_iter=5000,fit_intercept=True)\n",
    "scores = cross_val_score(model, train_poly_final_X_drop, train_Y, scoring='neg_root_mean_squared_error', cv=10, n_jobs=-1)\n",
    "scores.mean()"
   ]
  },
  {
   "cell_type": "code",
   "execution_count": 126,
   "id": "dependent-formation",
   "metadata": {},
   "outputs": [
    {
     "data": {
      "text/plain": [
       "-0.31719734348468254"
      ]
     },
     "execution_count": 126,
     "metadata": {},
     "output_type": "execute_result"
    }
   ],
   "source": [
    "model = ElasticNet(alpha=1.0,l1_ratio=0.5)\n",
    "scores = cross_val_score(model, train_poly_final_X, train_Y, scoring='neg_root_mean_squared_error', cv=10, n_jobs=-1)\n",
    "scores.mean()"
   ]
  },
  {
   "cell_type": "code",
   "execution_count": 152,
   "id": "prompt-roller",
   "metadata": {},
   "outputs": [
    {
     "data": {
      "text/plain": [
       "-0.11894741040148546"
      ]
     },
     "execution_count": 152,
     "metadata": {},
     "output_type": "execute_result"
    }
   ],
   "source": [
    "model = ElasticNet(alpha=0.0011,l1_ratio=0.35)\n",
    "scores = cross_val_score(model, train_poly_final_X, train_Y, scoring='neg_root_mean_squared_error', cv=10, n_jobs=-1)\n",
    "scores.mean()"
   ]
  },
  {
   "cell_type": "code",
   "execution_count": 130,
   "id": "recent-brother",
   "metadata": {},
   "outputs": [
    {
     "data": {
      "text/plain": [
       "Lasso(alpha=0.0001, copy_X=True, fit_intercept=True, max_iter=5000,\n",
       "      normalize=False, positive=False, precompute=False, random_state=None,\n",
       "      selection='cyclic', tol=0.0001, warm_start=False)"
      ]
     },
     "execution_count": 130,
     "metadata": {},
     "output_type": "execute_result"
    }
   ],
   "source": [
    "model.fit(X_train, y_train)"
   ]
  },
  {
   "cell_type": "code",
   "execution_count": 131,
   "id": "naughty-recipe",
   "metadata": {},
   "outputs": [],
   "source": [
    "results = pd.DataFrame(data={'actual':y_test,'predicted':model.predict(X_test)})"
   ]
  },
  {
   "cell_type": "code",
   "execution_count": 132,
   "id": "handmade-preview",
   "metadata": {},
   "outputs": [
    {
     "data": {
      "text/plain": [
       "0.12520573365331547"
      ]
     },
     "execution_count": 132,
     "metadata": {},
     "output_type": "execute_result"
    }
   ],
   "source": [
    "np.sqrt(np.sum(np.square(results['actual']-results['predicted']))/results.shape[0])"
   ]
  },
  {
   "cell_type": "code",
   "execution_count": 133,
   "id": "sustainable-probe",
   "metadata": {},
   "outputs": [
    {
     "data": {
      "text/plain": [
       "<matplotlib.collections.PathCollection at 0x7ffc7cc8f5d0>"
      ]
     },
     "execution_count": 133,
     "metadata": {},
     "output_type": "execute_result"
    },
    {
     "data": {
      "image/png": "[encoded data removed]",
      "text/plain": [
       "<Figure size 432x288 with 1 Axes>"
      ]
     },
     "metadata": {
      "needs_background": "light"
     },
     "output_type": "display_data"
    }
   ],
   "source": [
    "plt.scatter(x='actual',y='predicted',data=results)"
   ]
  },
  {
   "cell_type": "code",
   "execution_count": 134,
   "id": "otherwise-donna",
   "metadata": {},
   "outputs": [
    {
     "data": {
      "text/plain": [
       "<matplotlib.collections.PathCollection at 0x7ffc7a13a710>"
      ]
     },
     "execution_count": 134,
     "metadata": {},
     "output_type": "execute_result"
    },
    {
     "data": {
      "image/png": "[encoded data removed]",
      "text/plain": [
       "<Figure size 432x288 with 1 Axes>"
      ]
     },
     "metadata": {
      "needs_background": "light"
     },
     "output_type": "display_data"
    }
   ],
   "source": [
    "plt.scatter(x=results['actual'],y=results['predicted']-results['actual'])"
   ]
  },
  {
   "cell_type": "code",
   "execution_count": 135,
   "id": "helpful-lottery",
   "metadata": {},
   "outputs": [
    {
     "data": {
      "text/html": [
       "<div>\n",
       "<style scoped>\n",
       "    .dataframe tbody tr th:only-of-type {\n",
       "        vertical-align: middle;\n",
       "    }\n",
       "\n",
       "    .dataframe tbody tr th {\n",
       "        vertical-align: top;\n",
       "    }\n",
       "\n",
       "    .dataframe thead th {\n",
       "        text-align: right;\n",
       "    }\n",
       "</style>\n",
       "<table border=\"1\" class=\"dataframe\">\n",
       "  <thead>\n",
       "    <tr style=\"text-align: right;\">\n",
       "      <th></th>\n",
       "      <th>0</th>\n",
       "      <th>1</th>\n",
       "    </tr>\n",
       "  </thead>\n",
       "  <tbody>\n",
       "    <tr>\n",
       "      <th>28</th>\n",
       "      <td>Neighborhood__NAmes GrLivArea</td>\n",
       "      <td>-0.054358</td>\n",
       "    </tr>\n",
       "    <tr>\n",
       "      <th>111</th>\n",
       "      <td>Exterior1st__HdBoard</td>\n",
       "      <td>-0.046936</td>\n",
       "    </tr>\n",
       "    <tr>\n",
       "      <th>91</th>\n",
       "      <td>Neighborhood__NAmes</td>\n",
       "      <td>-0.045348</td>\n",
       "    </tr>\n",
       "    <tr>\n",
       "      <th>159</th>\n",
       "      <td>SaleCondition__Abnorml</td>\n",
       "      <td>-0.044772</td>\n",
       "    </tr>\n",
       "    <tr>\n",
       "      <th>1</th>\n",
       "      <td>LotArea_^2</td>\n",
       "      <td>-0.040915</td>\n",
       "    </tr>\n",
       "    <tr>\n",
       "      <th>...</th>\n",
       "      <td>...</td>\n",
       "      <td>...</td>\n",
       "    </tr>\n",
       "    <tr>\n",
       "      <th>170</th>\n",
       "      <td>GrLivArea</td>\n",
       "      <td>0.063406</td>\n",
       "    </tr>\n",
       "    <tr>\n",
       "      <th>73</th>\n",
       "      <td>MasVnrType__Stone 1stFlrSF</td>\n",
       "      <td>0.067815</td>\n",
       "    </tr>\n",
       "    <tr>\n",
       "      <th>77</th>\n",
       "      <td>MSZoning__RL</td>\n",
       "      <td>0.068054</td>\n",
       "    </tr>\n",
       "    <tr>\n",
       "      <th>76</th>\n",
       "      <td>MSZoning__FV</td>\n",
       "      <td>0.074877</td>\n",
       "    </tr>\n",
       "    <tr>\n",
       "      <th>157</th>\n",
       "      <td>SaleType__New</td>\n",
       "      <td>0.081405</td>\n",
       "    </tr>\n",
       "  </tbody>\n",
       "</table>\n",
       "<p>188 rows × 2 columns</p>\n",
       "</div>"
      ],
      "text/plain": [
       "                                 0         1\n",
       "28   Neighborhood__NAmes GrLivArea -0.054358\n",
       "111  Exterior1st__HdBoard          -0.046936\n",
       "91   Neighborhood__NAmes           -0.045348\n",
       "159  SaleCondition__Abnorml        -0.044772\n",
       "1    LotArea_^2                    -0.040915\n",
       "..          ...                          ...\n",
       "170  GrLivArea                      0.063406\n",
       "73   MasVnrType__Stone 1stFlrSF     0.067815\n",
       "77   MSZoning__RL                   0.068054\n",
       "76   MSZoning__FV                   0.074877\n",
       "157  SaleType__New                  0.081405\n",
       "\n",
       "[188 rows x 2 columns]"
      ]
     },
     "execution_count": 135,
     "metadata": {},
     "output_type": "execute_result"
    }
   ],
   "source": [
    "pd.DataFrame(zip(train_poly_final_X.columns, model.coef_)).sort_values(by=1)"
   ]
  },
  {
   "cell_type": "code",
   "execution_count": 136,
   "id": "burning-pharmacy",
   "metadata": {},
   "outputs": [
    {
     "data": {
      "text/html": [
       "<div>\n",
       "<style scoped>\n",
       "    .dataframe tbody tr th:only-of-type {\n",
       "        vertical-align: middle;\n",
       "    }\n",
       "\n",
       "    .dataframe tbody tr th {\n",
       "        vertical-align: top;\n",
       "    }\n",
       "\n",
       "    .dataframe thead th {\n",
       "        text-align: right;\n",
       "    }\n",
       "</style>\n",
       "<table border=\"1\" class=\"dataframe\">\n",
       "  <thead>\n",
       "    <tr style=\"text-align: right;\">\n",
       "      <th></th>\n",
       "      <th>0</th>\n",
       "      <th>1</th>\n",
       "    </tr>\n",
       "  </thead>\n",
       "  <tbody>\n",
       "    <tr>\n",
       "      <th>28</th>\n",
       "      <td>Neighborhood__NAmes GrLivArea</td>\n",
       "      <td>-0.054358</td>\n",
       "    </tr>\n",
       "    <tr>\n",
       "      <th>111</th>\n",
       "      <td>Exterior1st__HdBoard</td>\n",
       "      <td>-0.046936</td>\n",
       "    </tr>\n",
       "    <tr>\n",
       "      <th>91</th>\n",
       "      <td>Neighborhood__NAmes</td>\n",
       "      <td>-0.045348</td>\n",
       "    </tr>\n",
       "    <tr>\n",
       "      <th>159</th>\n",
       "      <td>SaleCondition__Abnorml</td>\n",
       "      <td>-0.044772</td>\n",
       "    </tr>\n",
       "    <tr>\n",
       "      <th>1</th>\n",
       "      <td>LotArea_^2</td>\n",
       "      <td>-0.040915</td>\n",
       "    </tr>\n",
       "    <tr>\n",
       "      <th>79</th>\n",
       "      <td>LotShape__IR1</td>\n",
       "      <td>-0.034930</td>\n",
       "    </tr>\n",
       "    <tr>\n",
       "      <th>115</th>\n",
       "      <td>Exterior1st__Wd Sdng</td>\n",
       "      <td>-0.034172</td>\n",
       "    </tr>\n",
       "    <tr>\n",
       "      <th>164</th>\n",
       "      <td>YearBuilt</td>\n",
       "      <td>-0.034057</td>\n",
       "    </tr>\n",
       "    <tr>\n",
       "      <th>112</th>\n",
       "      <td>Exterior1st__MetalSd</td>\n",
       "      <td>-0.032730</td>\n",
       "    </tr>\n",
       "    <tr>\n",
       "      <th>30</th>\n",
       "      <td>LandContour__Bnk OverallQual</td>\n",
       "      <td>-0.030229</td>\n",
       "    </tr>\n",
       "    <tr>\n",
       "      <th>120</th>\n",
       "      <td>Exterior2nd__VinylSd</td>\n",
       "      <td>-0.027448</td>\n",
       "    </tr>\n",
       "    <tr>\n",
       "      <th>87</th>\n",
       "      <td>Neighborhood__CollgCr</td>\n",
       "      <td>-0.026716</td>\n",
       "    </tr>\n",
       "    <tr>\n",
       "      <th>166</th>\n",
       "      <td>MasVnrArea</td>\n",
       "      <td>-0.025874</td>\n",
       "    </tr>\n",
       "    <tr>\n",
       "      <th>43</th>\n",
       "      <td>MSZoning__RL YearRemodAdd</td>\n",
       "      <td>-0.024755</td>\n",
       "    </tr>\n",
       "    <tr>\n",
       "      <th>92</th>\n",
       "      <td>Neighborhood__NWAmes</td>\n",
       "      <td>-0.023663</td>\n",
       "    </tr>\n",
       "    <tr>\n",
       "      <th>33</th>\n",
       "      <td>Neighborhood__NAmes WoodDeckSF</td>\n",
       "      <td>-0.023542</td>\n",
       "    </tr>\n",
       "    <tr>\n",
       "      <th>38</th>\n",
       "      <td>1stFlrSF GrLivArea</td>\n",
       "      <td>-0.022621</td>\n",
       "    </tr>\n",
       "    <tr>\n",
       "      <th>9</th>\n",
       "      <td>GarageYrBlt_^2</td>\n",
       "      <td>-0.021349</td>\n",
       "    </tr>\n",
       "    <tr>\n",
       "      <th>131</th>\n",
       "      <td>BsmtExposure__No</td>\n",
       "      <td>-0.018048</td>\n",
       "    </tr>\n",
       "    <tr>\n",
       "      <th>103</th>\n",
       "      <td>HouseStyle__1.5Fin</td>\n",
       "      <td>-0.018024</td>\n",
       "    </tr>\n",
       "  </tbody>\n",
       "</table>\n",
       "</div>"
      ],
      "text/plain": [
       "                                  0         1\n",
       "28   Neighborhood__NAmes GrLivArea  -0.054358\n",
       "111  Exterior1st__HdBoard           -0.046936\n",
       "91   Neighborhood__NAmes            -0.045348\n",
       "159  SaleCondition__Abnorml         -0.044772\n",
       "1    LotArea_^2                     -0.040915\n",
       "79   LotShape__IR1                  -0.034930\n",
       "115  Exterior1st__Wd Sdng           -0.034172\n",
       "164  YearBuilt                      -0.034057\n",
       "112  Exterior1st__MetalSd           -0.032730\n",
       "30   LandContour__Bnk OverallQual   -0.030229\n",
       "120  Exterior2nd__VinylSd           -0.027448\n",
       "87   Neighborhood__CollgCr          -0.026716\n",
       "166  MasVnrArea                     -0.025874\n",
       "43   MSZoning__RL YearRemodAdd      -0.024755\n",
       "92   Neighborhood__NWAmes           -0.023663\n",
       "33   Neighborhood__NAmes WoodDeckSF -0.023542\n",
       "38   1stFlrSF GrLivArea             -0.022621\n",
       "9    GarageYrBlt_^2                 -0.021349\n",
       "131  BsmtExposure__No               -0.018048\n",
       "103  HouseStyle__1.5Fin             -0.018024"
      ]
     },
     "execution_count": 136,
     "metadata": {},
     "output_type": "execute_result"
    }
   ],
   "source": [
    "pd.DataFrame(zip(train_poly_final_X.columns, model.coef_)).sort_values(by=1).head(20)"
   ]
  },
  {
   "cell_type": "code",
   "execution_count": 137,
   "id": "fleet-artist",
   "metadata": {},
   "outputs": [
    {
     "data": {
      "text/html": [
       "<div>\n",
       "<style scoped>\n",
       "    .dataframe tbody tr th:only-of-type {\n",
       "        vertical-align: middle;\n",
       "    }\n",
       "\n",
       "    .dataframe tbody tr th {\n",
       "        vertical-align: top;\n",
       "    }\n",
       "\n",
       "    .dataframe thead th {\n",
       "        text-align: right;\n",
       "    }\n",
       "</style>\n",
       "<table border=\"1\" class=\"dataframe\">\n",
       "  <thead>\n",
       "    <tr style=\"text-align: right;\">\n",
       "      <th></th>\n",
       "      <th>0</th>\n",
       "      <th>1</th>\n",
       "    </tr>\n",
       "  </thead>\n",
       "  <tbody>\n",
       "    <tr>\n",
       "      <th>75</th>\n",
       "      <td>CentralAir__N 1stFlrSF</td>\n",
       "      <td>0.040757</td>\n",
       "    </tr>\n",
       "    <tr>\n",
       "      <th>67</th>\n",
       "      <td>LandContour__Bnk BsmtQual</td>\n",
       "      <td>0.043295</td>\n",
       "    </tr>\n",
       "    <tr>\n",
       "      <th>153</th>\n",
       "      <td>PavedDrive__Y</td>\n",
       "      <td>0.043548</td>\n",
       "    </tr>\n",
       "    <tr>\n",
       "      <th>102</th>\n",
       "      <td>BldgType__TwnhsE</td>\n",
       "      <td>0.045013</td>\n",
       "    </tr>\n",
       "    <tr>\n",
       "      <th>187</th>\n",
       "      <td>OverallQual</td>\n",
       "      <td>0.045148</td>\n",
       "    </tr>\n",
       "    <tr>\n",
       "      <th>148</th>\n",
       "      <td>GarageType__Detchd</td>\n",
       "      <td>0.045282</td>\n",
       "    </tr>\n",
       "    <tr>\n",
       "      <th>69</th>\n",
       "      <td>SaleCondition__Normal LotArea</td>\n",
       "      <td>0.045900</td>\n",
       "    </tr>\n",
       "    <tr>\n",
       "      <th>129</th>\n",
       "      <td>BsmtExposure__Gd</td>\n",
       "      <td>0.046608</td>\n",
       "    </tr>\n",
       "    <tr>\n",
       "      <th>106</th>\n",
       "      <td>HouseStyle__SLvl</td>\n",
       "      <td>0.047951</td>\n",
       "    </tr>\n",
       "    <tr>\n",
       "      <th>78</th>\n",
       "      <td>MSZoning__RM</td>\n",
       "      <td>0.048521</td>\n",
       "    </tr>\n",
       "    <tr>\n",
       "      <th>121</th>\n",
       "      <td>Exterior2nd__Wd Sdng</td>\n",
       "      <td>0.049419</td>\n",
       "    </tr>\n",
       "    <tr>\n",
       "      <th>167</th>\n",
       "      <td>TotalBsmtSF</td>\n",
       "      <td>0.049993</td>\n",
       "    </tr>\n",
       "    <tr>\n",
       "      <th>45</th>\n",
       "      <td>HouseStyle__1Story GarageType__Attchd</td>\n",
       "      <td>0.054049</td>\n",
       "    </tr>\n",
       "    <tr>\n",
       "      <th>74</th>\n",
       "      <td>Fence__GdWo GarageArea</td>\n",
       "      <td>0.057623</td>\n",
       "    </tr>\n",
       "    <tr>\n",
       "      <th>169</th>\n",
       "      <td>2ndFlrSF</td>\n",
       "      <td>0.060676</td>\n",
       "    </tr>\n",
       "    <tr>\n",
       "      <th>170</th>\n",
       "      <td>GrLivArea</td>\n",
       "      <td>0.063406</td>\n",
       "    </tr>\n",
       "    <tr>\n",
       "      <th>73</th>\n",
       "      <td>MasVnrType__Stone 1stFlrSF</td>\n",
       "      <td>0.067815</td>\n",
       "    </tr>\n",
       "    <tr>\n",
       "      <th>77</th>\n",
       "      <td>MSZoning__RL</td>\n",
       "      <td>0.068054</td>\n",
       "    </tr>\n",
       "    <tr>\n",
       "      <th>76</th>\n",
       "      <td>MSZoning__FV</td>\n",
       "      <td>0.074877</td>\n",
       "    </tr>\n",
       "    <tr>\n",
       "      <th>157</th>\n",
       "      <td>SaleType__New</td>\n",
       "      <td>0.081405</td>\n",
       "    </tr>\n",
       "  </tbody>\n",
       "</table>\n",
       "</div>"
      ],
      "text/plain": [
       "                                         0         1\n",
       "75   CentralAir__N 1stFlrSF                 0.040757\n",
       "67   LandContour__Bnk BsmtQual              0.043295\n",
       "153  PavedDrive__Y                          0.043548\n",
       "102  BldgType__TwnhsE                       0.045013\n",
       "187  OverallQual                            0.045148\n",
       "148  GarageType__Detchd                     0.045282\n",
       "69   SaleCondition__Normal LotArea          0.045900\n",
       "129  BsmtExposure__Gd                       0.046608\n",
       "106  HouseStyle__SLvl                       0.047951\n",
       "78   MSZoning__RM                           0.048521\n",
       "121  Exterior2nd__Wd Sdng                   0.049419\n",
       "167  TotalBsmtSF                            0.049993\n",
       "45   HouseStyle__1Story GarageType__Attchd  0.054049\n",
       "74   Fence__GdWo GarageArea                 0.057623\n",
       "169  2ndFlrSF                               0.060676\n",
       "170  GrLivArea                              0.063406\n",
       "73   MasVnrType__Stone 1stFlrSF             0.067815\n",
       "77   MSZoning__RL                           0.068054\n",
       "76   MSZoning__FV                           0.074877\n",
       "157  SaleType__New                          0.081405"
      ]
     },
     "execution_count": 137,
     "metadata": {},
     "output_type": "execute_result"
    }
   ],
   "source": [
    "pd.DataFrame(zip(train_poly_final_X.columns, model.coef_)).sort_values(by=1).tail(20)"
   ]
  }
 ],
 "metadata": {
  "kernelspec": {
   "display_name": "Python 3",
   "language": "python",
   "name": "python3"
  },
  "language_info": {
   "codemirror_mode": {
    "name": "ipython",
    "version": 3
   },
   "file_extension": ".py",
   "mimetype": "text/x-python",
   "name": "python",
   "nbconvert_exporter": "python",
   "pygments_lexer": "ipython3",
   "version": "3.7.6"
  }
 },
 "nbformat": 4,
 "nbformat_minor": 5
}
